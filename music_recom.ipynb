{
  "cells": [
    {
      "cell_type": "markdown",
      "metadata": {
        "id": "view-in-github",
        "colab_type": "text"
      },
      "source": [
        "<a href=\"https://colab.research.google.com/github/hannahcyrus/musicRecommedation_AI_ML/blob/main/music_recom.ipynb\" target=\"_parent\"><img src=\"https://colab.research.google.com/assets/colab-badge.svg\" alt=\"Open In Colab\"/></a>"
      ]
    },
    {
      "cell_type": "code",
      "execution_count": 1,
      "metadata": {
        "id": "RljJLoHEPpUk"
      },
      "outputs": [],
      "source": [
        "import numpy as np\n",
        "import pandas as pd\n",
        "import matplotlib.pyplot as plt\n",
        "import seaborn as sns"
      ]
    },
    {
      "cell_type": "code",
      "execution_count": 2,
      "metadata": {
        "id": "7yrjxZkxIZFW"
      },
      "outputs": [],
      "source": [
        "songs=pd.read_csv(\"/content/drive/MyDrive/ai_ml/project/spotify dataset/SpotifyFeatures.csv\")\n",
        "songs1=pd.read_csv(\"/content/drive/MyDrive/ai_ml/project/SpotifySongs.csv\")"
      ]
    },
    {
      "cell_type": "code",
      "execution_count": 3,
      "metadata": {
        "colab": {
          "base_uri": "https://localhost:8080/"
        },
        "id": "mSnbAufJLI0z",
        "outputId": "5b85034f-22e8-4115-e13f-123b1c653f38"
      },
      "outputs": [
        {
          "output_type": "stream",
          "name": "stdout",
          "text": [
            "<class 'pandas.core.frame.DataFrame'>\n",
            "RangeIndex: 232725 entries, 0 to 232724\n",
            "Data columns (total 18 columns):\n",
            " #   Column            Non-Null Count   Dtype  \n",
            "---  ------            --------------   -----  \n",
            " 0   genre             232725 non-null  object \n",
            " 1   artist_name       232725 non-null  object \n",
            " 2   track_name        232725 non-null  object \n",
            " 3   track_id          232725 non-null  object \n",
            " 4   popularity        232725 non-null  int64  \n",
            " 5   acousticness      232725 non-null  float64\n",
            " 6   danceability      232725 non-null  float64\n",
            " 7   duration_ms       232725 non-null  int64  \n",
            " 8   energy            232725 non-null  float64\n",
            " 9   instrumentalness  232725 non-null  float64\n",
            " 10  key               232725 non-null  object \n",
            " 11  liveness          232725 non-null  float64\n",
            " 12  loudness          232725 non-null  float64\n",
            " 13  mode              232725 non-null  object \n",
            " 14  speechiness       232725 non-null  float64\n",
            " 15  tempo             232725 non-null  float64\n",
            " 16  time_signature    232725 non-null  object \n",
            " 17  valence           232725 non-null  float64\n",
            "dtypes: float64(9), int64(2), object(7)\n",
            "memory usage: 32.0+ MB\n",
            "<class 'pandas.core.frame.DataFrame'>\n",
            "RangeIndex: 3731 entries, 0 to 3730\n",
            "Data columns (total 15 columns):\n",
            " #   Column            Non-Null Count  Dtype  \n",
            "---  ------            --------------  -----  \n",
            " 0   SongName          3731 non-null   object \n",
            " 1   ArtistName        3731 non-null   object \n",
            " 2   Popularity        3731 non-null   int64  \n",
            " 3   Danceability      3731 non-null   float64\n",
            " 4   Energy            3731 non-null   float64\n",
            " 5   Key               3731 non-null   int64  \n",
            " 6   Loudness          3731 non-null   float64\n",
            " 7   Mode              3731 non-null   int64  \n",
            " 8   Speechiness       3731 non-null   float64\n",
            " 9   Acousticness      3731 non-null   float64\n",
            " 10  Instrumentalness  3731 non-null   float64\n",
            " 11  Liveness          3731 non-null   float64\n",
            " 12  Valence           3731 non-null   float64\n",
            " 13  Tempo             3731 non-null   float64\n",
            " 14  Duration_ms       3731 non-null   int64  \n",
            "dtypes: float64(9), int64(4), object(2)\n",
            "memory usage: 437.4+ KB\n"
          ]
        }
      ],
      "source": [
        "songs.info()\n",
        "songs1.info()"
      ]
    },
    {
      "cell_type": "code",
      "execution_count": 30,
      "metadata": {
        "colab": {
          "base_uri": "https://localhost:8080/",
          "height": 424
        },
        "id": "crK9vsCW-rhc",
        "outputId": "4c20d7f3-33b2-4de1-acfd-9400172e9066"
      },
      "outputs": [
        {
          "output_type": "execute_result",
          "data": {
            "text/plain": [
              "      SongName  ArtistName  Popularity  Danceability  Energy    Key  Loudness  \\\n",
              "0        False       False       False         False   False  False     False   \n",
              "1        False       False       False         False   False  False     False   \n",
              "2        False       False       False         False   False  False     False   \n",
              "3        False       False       False         False   False  False     False   \n",
              "4        False       False       False         False   False  False     False   \n",
              "...        ...         ...         ...           ...     ...    ...       ...   \n",
              "3726     False       False       False         False   False  False     False   \n",
              "3727     False       False       False         False   False  False     False   \n",
              "3728     False       False       False         False   False  False     False   \n",
              "3729     False       False       False         False   False  False     False   \n",
              "3730     False       False       False         False   False  False     False   \n",
              "\n",
              "       Mode  Speechiness  Acousticness  Instrumentalness  Liveness  Valence  \\\n",
              "0     False        False         False             False     False    False   \n",
              "1     False        False         False             False     False    False   \n",
              "2     False        False         False             False     False    False   \n",
              "3     False        False         False             False     False    False   \n",
              "4     False        False         False             False     False    False   \n",
              "...     ...          ...           ...               ...       ...      ...   \n",
              "3726  False        False         False             False     False    False   \n",
              "3727  False        False         False             False     False    False   \n",
              "3728  False        False         False             False     False    False   \n",
              "3729  False        False         False             False     False    False   \n",
              "3730  False        False         False             False     False    False   \n",
              "\n",
              "      Tempo  Duration_ms  \n",
              "0     False        False  \n",
              "1     False        False  \n",
              "2     False        False  \n",
              "3     False        False  \n",
              "4     False        False  \n",
              "...     ...          ...  \n",
              "3726  False        False  \n",
              "3727  False        False  \n",
              "3728  False        False  \n",
              "3729  False        False  \n",
              "3730  False        False  \n",
              "\n",
              "[3731 rows x 15 columns]"
            ],
            "text/html": [
              "\n",
              "  <div id=\"df-4c3e87b4-73d6-4d0d-a49f-d23bb31ea11c\">\n",
              "    <div class=\"colab-df-container\">\n",
              "      <div>\n",
              "<style scoped>\n",
              "    .dataframe tbody tr th:only-of-type {\n",
              "        vertical-align: middle;\n",
              "    }\n",
              "\n",
              "    .dataframe tbody tr th {\n",
              "        vertical-align: top;\n",
              "    }\n",
              "\n",
              "    .dataframe thead th {\n",
              "        text-align: right;\n",
              "    }\n",
              "</style>\n",
              "<table border=\"1\" class=\"dataframe\">\n",
              "  <thead>\n",
              "    <tr style=\"text-align: right;\">\n",
              "      <th></th>\n",
              "      <th>SongName</th>\n",
              "      <th>ArtistName</th>\n",
              "      <th>Popularity</th>\n",
              "      <th>Danceability</th>\n",
              "      <th>Energy</th>\n",
              "      <th>Key</th>\n",
              "      <th>Loudness</th>\n",
              "      <th>Mode</th>\n",
              "      <th>Speechiness</th>\n",
              "      <th>Acousticness</th>\n",
              "      <th>Instrumentalness</th>\n",
              "      <th>Liveness</th>\n",
              "      <th>Valence</th>\n",
              "      <th>Tempo</th>\n",
              "      <th>Duration_ms</th>\n",
              "    </tr>\n",
              "  </thead>\n",
              "  <tbody>\n",
              "    <tr>\n",
              "      <th>0</th>\n",
              "      <td>False</td>\n",
              "      <td>False</td>\n",
              "      <td>False</td>\n",
              "      <td>False</td>\n",
              "      <td>False</td>\n",
              "      <td>False</td>\n",
              "      <td>False</td>\n",
              "      <td>False</td>\n",
              "      <td>False</td>\n",
              "      <td>False</td>\n",
              "      <td>False</td>\n",
              "      <td>False</td>\n",
              "      <td>False</td>\n",
              "      <td>False</td>\n",
              "      <td>False</td>\n",
              "    </tr>\n",
              "    <tr>\n",
              "      <th>1</th>\n",
              "      <td>False</td>\n",
              "      <td>False</td>\n",
              "      <td>False</td>\n",
              "      <td>False</td>\n",
              "      <td>False</td>\n",
              "      <td>False</td>\n",
              "      <td>False</td>\n",
              "      <td>False</td>\n",
              "      <td>False</td>\n",
              "      <td>False</td>\n",
              "      <td>False</td>\n",
              "      <td>False</td>\n",
              "      <td>False</td>\n",
              "      <td>False</td>\n",
              "      <td>False</td>\n",
              "    </tr>\n",
              "    <tr>\n",
              "      <th>2</th>\n",
              "      <td>False</td>\n",
              "      <td>False</td>\n",
              "      <td>False</td>\n",
              "      <td>False</td>\n",
              "      <td>False</td>\n",
              "      <td>False</td>\n",
              "      <td>False</td>\n",
              "      <td>False</td>\n",
              "      <td>False</td>\n",
              "      <td>False</td>\n",
              "      <td>False</td>\n",
              "      <td>False</td>\n",
              "      <td>False</td>\n",
              "      <td>False</td>\n",
              "      <td>False</td>\n",
              "    </tr>\n",
              "    <tr>\n",
              "      <th>3</th>\n",
              "      <td>False</td>\n",
              "      <td>False</td>\n",
              "      <td>False</td>\n",
              "      <td>False</td>\n",
              "      <td>False</td>\n",
              "      <td>False</td>\n",
              "      <td>False</td>\n",
              "      <td>False</td>\n",
              "      <td>False</td>\n",
              "      <td>False</td>\n",
              "      <td>False</td>\n",
              "      <td>False</td>\n",
              "      <td>False</td>\n",
              "      <td>False</td>\n",
              "      <td>False</td>\n",
              "    </tr>\n",
              "    <tr>\n",
              "      <th>4</th>\n",
              "      <td>False</td>\n",
              "      <td>False</td>\n",
              "      <td>False</td>\n",
              "      <td>False</td>\n",
              "      <td>False</td>\n",
              "      <td>False</td>\n",
              "      <td>False</td>\n",
              "      <td>False</td>\n",
              "      <td>False</td>\n",
              "      <td>False</td>\n",
              "      <td>False</td>\n",
              "      <td>False</td>\n",
              "      <td>False</td>\n",
              "      <td>False</td>\n",
              "      <td>False</td>\n",
              "    </tr>\n",
              "    <tr>\n",
              "      <th>...</th>\n",
              "      <td>...</td>\n",
              "      <td>...</td>\n",
              "      <td>...</td>\n",
              "      <td>...</td>\n",
              "      <td>...</td>\n",
              "      <td>...</td>\n",
              "      <td>...</td>\n",
              "      <td>...</td>\n",
              "      <td>...</td>\n",
              "      <td>...</td>\n",
              "      <td>...</td>\n",
              "      <td>...</td>\n",
              "      <td>...</td>\n",
              "      <td>...</td>\n",
              "      <td>...</td>\n",
              "    </tr>\n",
              "    <tr>\n",
              "      <th>3726</th>\n",
              "      <td>False</td>\n",
              "      <td>False</td>\n",
              "      <td>False</td>\n",
              "      <td>False</td>\n",
              "      <td>False</td>\n",
              "      <td>False</td>\n",
              "      <td>False</td>\n",
              "      <td>False</td>\n",
              "      <td>False</td>\n",
              "      <td>False</td>\n",
              "      <td>False</td>\n",
              "      <td>False</td>\n",
              "      <td>False</td>\n",
              "      <td>False</td>\n",
              "      <td>False</td>\n",
              "    </tr>\n",
              "    <tr>\n",
              "      <th>3727</th>\n",
              "      <td>False</td>\n",
              "      <td>False</td>\n",
              "      <td>False</td>\n",
              "      <td>False</td>\n",
              "      <td>False</td>\n",
              "      <td>False</td>\n",
              "      <td>False</td>\n",
              "      <td>False</td>\n",
              "      <td>False</td>\n",
              "      <td>False</td>\n",
              "      <td>False</td>\n",
              "      <td>False</td>\n",
              "      <td>False</td>\n",
              "      <td>False</td>\n",
              "      <td>False</td>\n",
              "    </tr>\n",
              "    <tr>\n",
              "      <th>3728</th>\n",
              "      <td>False</td>\n",
              "      <td>False</td>\n",
              "      <td>False</td>\n",
              "      <td>False</td>\n",
              "      <td>False</td>\n",
              "      <td>False</td>\n",
              "      <td>False</td>\n",
              "      <td>False</td>\n",
              "      <td>False</td>\n",
              "      <td>False</td>\n",
              "      <td>False</td>\n",
              "      <td>False</td>\n",
              "      <td>False</td>\n",
              "      <td>False</td>\n",
              "      <td>False</td>\n",
              "    </tr>\n",
              "    <tr>\n",
              "      <th>3729</th>\n",
              "      <td>False</td>\n",
              "      <td>False</td>\n",
              "      <td>False</td>\n",
              "      <td>False</td>\n",
              "      <td>False</td>\n",
              "      <td>False</td>\n",
              "      <td>False</td>\n",
              "      <td>False</td>\n",
              "      <td>False</td>\n",
              "      <td>False</td>\n",
              "      <td>False</td>\n",
              "      <td>False</td>\n",
              "      <td>False</td>\n",
              "      <td>False</td>\n",
              "      <td>False</td>\n",
              "    </tr>\n",
              "    <tr>\n",
              "      <th>3730</th>\n",
              "      <td>False</td>\n",
              "      <td>False</td>\n",
              "      <td>False</td>\n",
              "      <td>False</td>\n",
              "      <td>False</td>\n",
              "      <td>False</td>\n",
              "      <td>False</td>\n",
              "      <td>False</td>\n",
              "      <td>False</td>\n",
              "      <td>False</td>\n",
              "      <td>False</td>\n",
              "      <td>False</td>\n",
              "      <td>False</td>\n",
              "      <td>False</td>\n",
              "      <td>False</td>\n",
              "    </tr>\n",
              "  </tbody>\n",
              "</table>\n",
              "<p>3731 rows × 15 columns</p>\n",
              "</div>\n",
              "      <button class=\"colab-df-convert\" onclick=\"convertToInteractive('df-4c3e87b4-73d6-4d0d-a49f-d23bb31ea11c')\"\n",
              "              title=\"Convert this dataframe to an interactive table.\"\n",
              "              style=\"display:none;\">\n",
              "        \n",
              "  <svg xmlns=\"http://www.w3.org/2000/svg\" height=\"24px\"viewBox=\"0 0 24 24\"\n",
              "       width=\"24px\">\n",
              "    <path d=\"M0 0h24v24H0V0z\" fill=\"none\"/>\n",
              "    <path d=\"M18.56 5.44l.94 2.06.94-2.06 2.06-.94-2.06-.94-.94-2.06-.94 2.06-2.06.94zm-11 1L8.5 8.5l.94-2.06 2.06-.94-2.06-.94L8.5 2.5l-.94 2.06-2.06.94zm10 10l.94 2.06.94-2.06 2.06-.94-2.06-.94-.94-2.06-.94 2.06-2.06.94z\"/><path d=\"M17.41 7.96l-1.37-1.37c-.4-.4-.92-.59-1.43-.59-.52 0-1.04.2-1.43.59L10.3 9.45l-7.72 7.72c-.78.78-.78 2.05 0 2.83L4 21.41c.39.39.9.59 1.41.59.51 0 1.02-.2 1.41-.59l7.78-7.78 2.81-2.81c.8-.78.8-2.07 0-2.86zM5.41 20L4 18.59l7.72-7.72 1.47 1.35L5.41 20z\"/>\n",
              "  </svg>\n",
              "      </button>\n",
              "      \n",
              "  <style>\n",
              "    .colab-df-container {\n",
              "      display:flex;\n",
              "      flex-wrap:wrap;\n",
              "      gap: 12px;\n",
              "    }\n",
              "\n",
              "    .colab-df-convert {\n",
              "      background-color: #E8F0FE;\n",
              "      border: none;\n",
              "      border-radius: 50%;\n",
              "      cursor: pointer;\n",
              "      display: none;\n",
              "      fill: #1967D2;\n",
              "      height: 32px;\n",
              "      padding: 0 0 0 0;\n",
              "      width: 32px;\n",
              "    }\n",
              "\n",
              "    .colab-df-convert:hover {\n",
              "      background-color: #E2EBFA;\n",
              "      box-shadow: 0px 1px 2px rgba(60, 64, 67, 0.3), 0px 1px 3px 1px rgba(60, 64, 67, 0.15);\n",
              "      fill: #174EA6;\n",
              "    }\n",
              "\n",
              "    [theme=dark] .colab-df-convert {\n",
              "      background-color: #3B4455;\n",
              "      fill: #D2E3FC;\n",
              "    }\n",
              "\n",
              "    [theme=dark] .colab-df-convert:hover {\n",
              "      background-color: #434B5C;\n",
              "      box-shadow: 0px 1px 3px 1px rgba(0, 0, 0, 0.15);\n",
              "      filter: drop-shadow(0px 1px 2px rgba(0, 0, 0, 0.3));\n",
              "      fill: #FFFFFF;\n",
              "    }\n",
              "  </style>\n",
              "\n",
              "      <script>\n",
              "        const buttonEl =\n",
              "          document.querySelector('#df-4c3e87b4-73d6-4d0d-a49f-d23bb31ea11c button.colab-df-convert');\n",
              "        buttonEl.style.display =\n",
              "          google.colab.kernel.accessAllowed ? 'block' : 'none';\n",
              "\n",
              "        async function convertToInteractive(key) {\n",
              "          const element = document.querySelector('#df-4c3e87b4-73d6-4d0d-a49f-d23bb31ea11c');\n",
              "          const dataTable =\n",
              "            await google.colab.kernel.invokeFunction('convertToInteractive',\n",
              "                                                     [key], {});\n",
              "          if (!dataTable) return;\n",
              "\n",
              "          const docLinkHtml = 'Like what you see? Visit the ' +\n",
              "            '<a target=\"_blank\" href=https://colab.research.google.com/notebooks/data_table.ipynb>data table notebook</a>'\n",
              "            + ' to learn more about interactive tables.';\n",
              "          element.innerHTML = '';\n",
              "          dataTable['output_type'] = 'display_data';\n",
              "          await google.colab.output.renderOutput(dataTable, element);\n",
              "          const docLink = document.createElement('div');\n",
              "          docLink.innerHTML = docLinkHtml;\n",
              "          element.appendChild(docLink);\n",
              "        }\n",
              "      </script>\n",
              "    </div>\n",
              "  </div>\n",
              "  "
            ]
          },
          "metadata": {},
          "execution_count": 30
        }
      ],
      "source": [
        "songs1.isna()"
      ]
    },
    {
      "cell_type": "code",
      "execution_count": 5,
      "metadata": {
        "colab": {
          "base_uri": "https://localhost:8080/",
          "height": 607
        },
        "id": "4QlV3aCmJK0v",
        "outputId": "b53c8f8f-7111-4e0b-bda8-77eaa0a36e66"
      },
      "outputs": [
        {
          "output_type": "display_data",
          "data": {
            "text/plain": [
              "<Figure size 1440x720 with 12 Axes>"
            ],
            "image/png": "[encoded data removed]"
          },
          "metadata": {
            "needs_background": "light"
          }
        }
      ],
      "source": [
        "\n",
        "songs=songs.iloc[1:500,:]\n",
        "songs[['popularity', 'acousticness', 'danceability', 'energy', \n",
        "           'instrumentalness', 'key','liveness','loudness', 'mode', 'speechiness',\n",
        "           'tempo', 'valence']].hist(bins=50,figsize=(20,10))\n",
        "plt.show()\n"
      ]
    },
    {
      "cell_type": "code",
      "execution_count": 6,
      "metadata": {
        "colab": {
          "base_uri": "https://localhost:8080/",
          "height": 468
        },
        "id": "tGFBLa_iSgwG",
        "outputId": "154a1161-5756-4ac5-b651-1da7e7c295e3"
      },
      "outputs": [
        {
          "output_type": "execute_result",
          "data": {
            "text/plain": [
              "<matplotlib.axes._subplots.AxesSubplot at 0x7f1e80f2a4d0>"
            ]
          },
          "metadata": {},
          "execution_count": 6
        },
        {
          "output_type": "display_data",
          "data": {
            "text/plain": [
              "<Figure size 720x432 with 2 Axes>"
            ],
            "image/png": "[encoded data removed]"
          },
          "metadata": {
            "needs_background": "light"
          }
        }
      ],
      "source": [
        "plt.figure(figsize=(10,6))\n",
        "\n",
        "corr = songs.corr()\n",
        "mask = np.triu(np.ones_like(corr, dtype=bool))\n",
        "sns.heatmap(corr,mask=mask,vmin=-1,cmap='viridis',annot=True\n",
        "            )"
      ]
    },
    {
      "cell_type": "code",
      "execution_count": 7,
      "metadata": {
        "colab": {
          "base_uri": "https://localhost:8080/"
        },
        "id": "ogAiqgrES7yL",
        "outputId": "a5e76ff7-914d-4ecd-f370-de24e2872e77"
      },
      "outputs": [
        {
          "output_type": "execute_result",
          "data": {
            "text/plain": [
              "popularity      1.000000\n",
              "acousticness   -0.495184\n",
              "danceability    0.308690\n",
              "energy          0.314990\n",
              "loudness        0.458213\n",
              "Name: popularity, dtype: float64"
            ]
          },
          "metadata": {},
          "execution_count": 7
        }
      ],
      "source": [
        "corr[abs(corr['popularity']) > 0.25]['popularity']"
      ]
    },
    {
      "cell_type": "code",
      "execution_count": 8,
      "metadata": {
        "id": "LSEphi6YJoyC"
      },
      "outputs": [],
      "source": [
        "from sklearn.cluster import KMeans\n",
        "from sklearn.preprocessing import MinMaxScaler\n",
        "from sklearn.pipeline import Pipeline\n",
        "from sklearn.metrics.pairwise import euclidean_distances\n",
        "from collections import defaultdict"
      ]
    },
    {
      "cell_type": "code",
      "execution_count": 9,
      "metadata": {
        "colab": {
          "base_uri": "https://localhost:8080/"
        },
        "id": "e3KU70ScJDyM",
        "outputId": "4df9b7e9-0699-43ee-c8a6-ee44a11ce2db"
      },
      "outputs": [
        {
          "output_type": "stream",
          "name": "stdout",
          "text": [
            "user data:  [1.37646947e-02 9.16308527e-01 6.83242299e-01 4.19651996e-05\n",
            " 8.89212828e-02 6.09500374e-01 5.16316994e-01 6.15384615e-02\n",
            " 9.59882844e-01 6.39175258e-01]\n"
          ]
        }
      ],
      "source": [
        "columns_to_cluster = ['Acousticness', 'Danceability', 'Energy','Instrumentalness', 'Liveness','Valence', 'Tempo','Speechiness', 'Loudness','Popularity']\n",
        "mms = MinMaxScaler()\n",
        "\n",
        "songs_scaled = mms.fit_transform(songs1[columns_to_cluster])\n",
        "print(\"user data: \", songs_scaled[0,:])\n"
      ]
    },
    {
      "cell_type": "code",
      "execution_count": 10,
      "metadata": {
        "id": "IrLA8UfRLTlm"
      },
      "outputs": [],
      "source": [
        "columns_to_cluster_scaled = ['acousticness_scaled', 'danceability_scaled', \n",
        "                             'energy_scaled', 'instrumentalness_scaled', 'liveness_scaled'\n",
        "                             , 'valence_scaled', 'tempo_scaled','speechiness_scaled', 'loudness_scaled','popularity_scaled']\n",
        "\n",
        "df_songs_scaled = pd.DataFrame(songs_scaled, columns=columns_to_cluster_scaled)"
      ]
    },
    {
      "cell_type": "code",
      "execution_count": 11,
      "metadata": {
        "colab": {
          "base_uri": "https://localhost:8080/",
          "height": 492
        },
        "id": "oDJlnERnLb3I",
        "outputId": "732bc9ff-fe77-498e-fdd5-183e87f545ef"
      },
      "outputs": [
        {
          "output_type": "display_data",
          "data": {
            "text/plain": [
              "<Figure size 720x432 with 2 Axes>"
            ],
            "image/png": "[encoded data removed]"
          },
          "metadata": {
            "needs_background": "light"
          }
        }
      ],
      "source": [
        "plt.figure(figsize=(10,6))\n",
        "ax = sns.heatmap(df_songs_scaled.corr(), annot=True)\n",
        "plt.show()"
      ]
    },
    {
      "cell_type": "code",
      "execution_count": 26,
      "metadata": {
        "id": "BTcAPVTXJXL2"
      },
      "outputs": [],
      "source": [
        "from sklearn.feature_extraction.text import CountVectorizer\n",
        "cv = CountVectorizer(max_features=5000,stop_words='english')\n",
        "vector = cv.fit_transform(songs1[\"ArtistName\"]).toarray()\n",
        "from sklearn.metrics.pairwise import cosine_similarity\n",
        "similarity = cosine_similarity(songs_scaled)\n",
        "                               "
      ]
    },
    {
      "cell_type": "code",
      "execution_count": 13,
      "metadata": {
        "colab": {
          "base_uri": "https://localhost:8080/"
        },
        "id": "7e4dD3smOtxf",
        "outputId": "77b53901-6346-467f-ca0c-f2d174d9d3c1"
      },
      "outputs": [
        {
          "output_type": "execute_result",
          "data": {
            "text/plain": [
              "array([[1.        , 0.9514282 , 0.83674894, ..., 0.95756324, 0.91225224,\n",
              "        0.65150736],\n",
              "       [0.9514282 , 1.        , 0.88519223, ..., 0.96899614, 0.9136801 ,\n",
              "        0.75601539],\n",
              "       [0.83674894, 0.88519223, 1.        , ..., 0.94800135, 0.85590888,\n",
              "        0.91179296],\n",
              "       ...,\n",
              "       [0.95756324, 0.96899614, 0.94800135, ..., 1.        , 0.9181773 ,\n",
              "        0.81528799],\n",
              "       [0.91225224, 0.9136801 , 0.85590888, ..., 0.9181773 , 1.        ,\n",
              "        0.75412562],\n",
              "       [0.65150736, 0.75601539, 0.91179296, ..., 0.81528799, 0.75412562,\n",
              "        1.        ]])"
            ]
          },
          "metadata": {},
          "execution_count": 13
        }
      ],
      "source": [
        "similarity"
      ]
    },
    {
      "cell_type": "code",
      "execution_count": 14,
      "metadata": {
        "colab": {
          "base_uri": "https://localhost:8080/"
        },
        "id": "fMX0pPa-Z39K",
        "outputId": "080991db-69cc-4efc-fe62-85bfc9e3cffd"
      },
      "outputs": [
        {
          "output_type": "execute_result",
          "data": {
            "text/plain": [
              "(3731, 3731)"
            ]
          },
          "metadata": {},
          "execution_count": 14
        }
      ],
      "source": [
        "similarity.shape"
      ]
    },
    {
      "cell_type": "code",
      "execution_count": 15,
      "metadata": {
        "colab": {
          "base_uri": "https://localhost:8080/",
          "height": 572
        },
        "id": "O0ZN2D8NaS4Y",
        "outputId": "715016c1-2bfa-46d1-be93-ab4cf0bacacd"
      },
      "outputs": [
        {
          "output_type": "execute_result",
          "data": {
            "text/plain": [
              "                                               SongName         ArtistName  \\\n",
              "0                                            Saiyaan Ji  Yo Yo Honey Singh   \n",
              "1                                               Falling      Trevor Daniel   \n",
              "2                                                Shayad             Pritam   \n",
              "3     Malang (Title Track) [From \"Malang - Unleash T...         Ved Sharma   \n",
              "4                         Genda Phool (feat. Payal Dev)            Badshah   \n",
              "...                                                 ...                ...   \n",
              "3726                                      Back To Black      Amy Winehouse   \n",
              "3727                           Where Do We Go From Here    Charles Bradley   \n",
              "3728                          Way down We Go - Stripped              KALEO   \n",
              "3729                                 Let's Talk It Over         Lee Fields   \n",
              "3730                       The Gentle Rain - RJD2 Remix    Astrud Gilberto   \n",
              "\n",
              "      Popularity  Danceability  Energy  Key  Loudness  Mode  Speechiness  \\\n",
              "0             62         0.896   0.678    0    -2.546     0       0.0815   \n",
              "1             84         0.785   0.431   10    -8.756     0       0.0364   \n",
              "2             72         0.483   0.468    8    -7.642     1       0.0341   \n",
              "3             68         0.384   0.728    7    -6.503     0       0.0623   \n",
              "4             67         0.955   0.538    1    -8.394     1       0.0734   \n",
              "...          ...           ...     ...  ...       ...   ...          ...   \n",
              "3726          79         0.766   0.706    7    -6.553     0       0.1600   \n",
              "3727          69         0.735   0.784   11    -7.128     0       0.0332   \n",
              "3728          60         0.701   0.463    6    -7.212     0       0.0416   \n",
              "3729          54         0.595   0.628    1    -9.449     0       0.3170   \n",
              "3730          56         0.544   0.152    4   -17.995     0       0.0280   \n",
              "\n",
              "      Acousticness  Instrumentalness  Liveness  Valence    Tempo  Duration_ms  \n",
              "0           0.0137          0.000041    0.1100    0.604  130.024       205450  \n",
              "1           0.1230          0.000000    0.0887    0.236  127.085       159382  \n",
              "2           0.7850          0.000000    0.1520    0.319  135.864       247941  \n",
              "3           0.3290          0.000018    0.3290    0.311  156.396       287374  \n",
              "4           0.1320          0.001460    0.0704    0.837  116.977       170769  \n",
              "...            ...               ...       ...      ...      ...          ...  \n",
              "3726        0.2230          0.000280    0.0640    0.766  142.989       172598  \n",
              "3727        0.4490          0.154000    0.1050    0.582  120.012       191000  \n",
              "3728        0.3570          0.003060    0.0730    0.352  139.941       313800  \n",
              "3729        0.1830          0.315000    0.1220    0.170  102.029       230000  \n",
              "3730        0.9100          0.256000    0.1100    0.075   90.863       226184  \n",
              "\n",
              "[3731 rows x 15 columns]"
            ],
            "text/html": [
              "\n",
              "  <div id=\"df-dcf4c280-f670-45c8-9eca-25dcb1ae62c7\">\n",
              "    <div class=\"colab-df-container\">\n",
              "      <div>\n",
              "<style scoped>\n",
              "    .dataframe tbody tr th:only-of-type {\n",
              "        vertical-align: middle;\n",
              "    }\n",
              "\n",
              "    .dataframe tbody tr th {\n",
              "        vertical-align: top;\n",
              "    }\n",
              "\n",
              "    .dataframe thead th {\n",
              "        text-align: right;\n",
              "    }\n",
              "</style>\n",
              "<table border=\"1\" class=\"dataframe\">\n",
              "  <thead>\n",
              "    <tr style=\"text-align: right;\">\n",
              "      <th></th>\n",
              "      <th>SongName</th>\n",
              "      <th>ArtistName</th>\n",
              "      <th>Popularity</th>\n",
              "      <th>Danceability</th>\n",
              "      <th>Energy</th>\n",
              "      <th>Key</th>\n",
              "      <th>Loudness</th>\n",
              "      <th>Mode</th>\n",
              "      <th>Speechiness</th>\n",
              "      <th>Acousticness</th>\n",
              "      <th>Instrumentalness</th>\n",
              "      <th>Liveness</th>\n",
              "      <th>Valence</th>\n",
              "      <th>Tempo</th>\n",
              "      <th>Duration_ms</th>\n",
              "    </tr>\n",
              "  </thead>\n",
              "  <tbody>\n",
              "    <tr>\n",
              "      <th>0</th>\n",
              "      <td>Saiyaan Ji</td>\n",
              "      <td>Yo Yo Honey Singh</td>\n",
              "      <td>62</td>\n",
              "      <td>0.896</td>\n",
              "      <td>0.678</td>\n",
              "      <td>0</td>\n",
              "      <td>-2.546</td>\n",
              "      <td>0</td>\n",
              "      <td>0.0815</td>\n",
              "      <td>0.0137</td>\n",
              "      <td>0.000041</td>\n",
              "      <td>0.1100</td>\n",
              "      <td>0.604</td>\n",
              "      <td>130.024</td>\n",
              "      <td>205450</td>\n",
              "    </tr>\n",
              "    <tr>\n",
              "      <th>1</th>\n",
              "      <td>Falling</td>\n",
              "      <td>Trevor Daniel</td>\n",
              "      <td>84</td>\n",
              "      <td>0.785</td>\n",
              "      <td>0.431</td>\n",
              "      <td>10</td>\n",
              "      <td>-8.756</td>\n",
              "      <td>0</td>\n",
              "      <td>0.0364</td>\n",
              "      <td>0.1230</td>\n",
              "      <td>0.000000</td>\n",
              "      <td>0.0887</td>\n",
              "      <td>0.236</td>\n",
              "      <td>127.085</td>\n",
              "      <td>159382</td>\n",
              "    </tr>\n",
              "    <tr>\n",
              "      <th>2</th>\n",
              "      <td>Shayad</td>\n",
              "      <td>Pritam</td>\n",
              "      <td>72</td>\n",
              "      <td>0.483</td>\n",
              "      <td>0.468</td>\n",
              "      <td>8</td>\n",
              "      <td>-7.642</td>\n",
              "      <td>1</td>\n",
              "      <td>0.0341</td>\n",
              "      <td>0.7850</td>\n",
              "      <td>0.000000</td>\n",
              "      <td>0.1520</td>\n",
              "      <td>0.319</td>\n",
              "      <td>135.864</td>\n",
              "      <td>247941</td>\n",
              "    </tr>\n",
              "    <tr>\n",
              "      <th>3</th>\n",
              "      <td>Malang (Title Track) [From \"Malang - Unleash T...</td>\n",
              "      <td>Ved Sharma</td>\n",
              "      <td>68</td>\n",
              "      <td>0.384</td>\n",
              "      <td>0.728</td>\n",
              "      <td>7</td>\n",
              "      <td>-6.503</td>\n",
              "      <td>0</td>\n",
              "      <td>0.0623</td>\n",
              "      <td>0.3290</td>\n",
              "      <td>0.000018</td>\n",
              "      <td>0.3290</td>\n",
              "      <td>0.311</td>\n",
              "      <td>156.396</td>\n",
              "      <td>287374</td>\n",
              "    </tr>\n",
              "    <tr>\n",
              "      <th>4</th>\n",
              "      <td>Genda Phool (feat. Payal Dev)</td>\n",
              "      <td>Badshah</td>\n",
              "      <td>67</td>\n",
              "      <td>0.955</td>\n",
              "      <td>0.538</td>\n",
              "      <td>1</td>\n",
              "      <td>-8.394</td>\n",
              "      <td>1</td>\n",
              "      <td>0.0734</td>\n",
              "      <td>0.1320</td>\n",
              "      <td>0.001460</td>\n",
              "      <td>0.0704</td>\n",
              "      <td>0.837</td>\n",
              "      <td>116.977</td>\n",
              "      <td>170769</td>\n",
              "    </tr>\n",
              "    <tr>\n",
              "      <th>...</th>\n",
              "      <td>...</td>\n",
              "      <td>...</td>\n",
              "      <td>...</td>\n",
              "      <td>...</td>\n",
              "      <td>...</td>\n",
              "      <td>...</td>\n",
              "      <td>...</td>\n",
              "      <td>...</td>\n",
              "      <td>...</td>\n",
              "      <td>...</td>\n",
              "      <td>...</td>\n",
              "      <td>...</td>\n",
              "      <td>...</td>\n",
              "      <td>...</td>\n",
              "      <td>...</td>\n",
              "    </tr>\n",
              "    <tr>\n",
              "      <th>3726</th>\n",
              "      <td>Back To Black</td>\n",
              "      <td>Amy Winehouse</td>\n",
              "      <td>79</td>\n",
              "      <td>0.766</td>\n",
              "      <td>0.706</td>\n",
              "      <td>7</td>\n",
              "      <td>-6.553</td>\n",
              "      <td>0</td>\n",
              "      <td>0.1600</td>\n",
              "      <td>0.2230</td>\n",
              "      <td>0.000280</td>\n",
              "      <td>0.0640</td>\n",
              "      <td>0.766</td>\n",
              "      <td>142.989</td>\n",
              "      <td>172598</td>\n",
              "    </tr>\n",
              "    <tr>\n",
              "      <th>3727</th>\n",
              "      <td>Where Do We Go From Here</td>\n",
              "      <td>Charles Bradley</td>\n",
              "      <td>69</td>\n",
              "      <td>0.735</td>\n",
              "      <td>0.784</td>\n",
              "      <td>11</td>\n",
              "      <td>-7.128</td>\n",
              "      <td>0</td>\n",
              "      <td>0.0332</td>\n",
              "      <td>0.4490</td>\n",
              "      <td>0.154000</td>\n",
              "      <td>0.1050</td>\n",
              "      <td>0.582</td>\n",
              "      <td>120.012</td>\n",
              "      <td>191000</td>\n",
              "    </tr>\n",
              "    <tr>\n",
              "      <th>3728</th>\n",
              "      <td>Way down We Go - Stripped</td>\n",
              "      <td>KALEO</td>\n",
              "      <td>60</td>\n",
              "      <td>0.701</td>\n",
              "      <td>0.463</td>\n",
              "      <td>6</td>\n",
              "      <td>-7.212</td>\n",
              "      <td>0</td>\n",
              "      <td>0.0416</td>\n",
              "      <td>0.3570</td>\n",
              "      <td>0.003060</td>\n",
              "      <td>0.0730</td>\n",
              "      <td>0.352</td>\n",
              "      <td>139.941</td>\n",
              "      <td>313800</td>\n",
              "    </tr>\n",
              "    <tr>\n",
              "      <th>3729</th>\n",
              "      <td>Let's Talk It Over</td>\n",
              "      <td>Lee Fields</td>\n",
              "      <td>54</td>\n",
              "      <td>0.595</td>\n",
              "      <td>0.628</td>\n",
              "      <td>1</td>\n",
              "      <td>-9.449</td>\n",
              "      <td>0</td>\n",
              "      <td>0.3170</td>\n",
              "      <td>0.1830</td>\n",
              "      <td>0.315000</td>\n",
              "      <td>0.1220</td>\n",
              "      <td>0.170</td>\n",
              "      <td>102.029</td>\n",
              "      <td>230000</td>\n",
              "    </tr>\n",
              "    <tr>\n",
              "      <th>3730</th>\n",
              "      <td>The Gentle Rain - RJD2 Remix</td>\n",
              "      <td>Astrud Gilberto</td>\n",
              "      <td>56</td>\n",
              "      <td>0.544</td>\n",
              "      <td>0.152</td>\n",
              "      <td>4</td>\n",
              "      <td>-17.995</td>\n",
              "      <td>0</td>\n",
              "      <td>0.0280</td>\n",
              "      <td>0.9100</td>\n",
              "      <td>0.256000</td>\n",
              "      <td>0.1100</td>\n",
              "      <td>0.075</td>\n",
              "      <td>90.863</td>\n",
              "      <td>226184</td>\n",
              "    </tr>\n",
              "  </tbody>\n",
              "</table>\n",
              "<p>3731 rows × 15 columns</p>\n",
              "</div>\n",
              "      <button class=\"colab-df-convert\" onclick=\"convertToInteractive('df-dcf4c280-f670-45c8-9eca-25dcb1ae62c7')\"\n",
              "              title=\"Convert this dataframe to an interactive table.\"\n",
              "              style=\"display:none;\">\n",
              "        \n",
              "  <svg xmlns=\"http://www.w3.org/2000/svg\" height=\"24px\"viewBox=\"0 0 24 24\"\n",
              "       width=\"24px\">\n",
              "    <path d=\"M0 0h24v24H0V0z\" fill=\"none\"/>\n",
              "    <path d=\"M18.56 5.44l.94 2.06.94-2.06 2.06-.94-2.06-.94-.94-2.06-.94 2.06-2.06.94zm-11 1L8.5 8.5l.94-2.06 2.06-.94-2.06-.94L8.5 2.5l-.94 2.06-2.06.94zm10 10l.94 2.06.94-2.06 2.06-.94-2.06-.94-.94-2.06-.94 2.06-2.06.94z\"/><path d=\"M17.41 7.96l-1.37-1.37c-.4-.4-.92-.59-1.43-.59-.52 0-1.04.2-1.43.59L10.3 9.45l-7.72 7.72c-.78.78-.78 2.05 0 2.83L4 21.41c.39.39.9.59 1.41.59.51 0 1.02-.2 1.41-.59l7.78-7.78 2.81-2.81c.8-.78.8-2.07 0-2.86zM5.41 20L4 18.59l7.72-7.72 1.47 1.35L5.41 20z\"/>\n",
              "  </svg>\n",
              "      </button>\n",
              "      \n",
              "  <style>\n",
              "    .colab-df-container {\n",
              "      display:flex;\n",
              "      flex-wrap:wrap;\n",
              "      gap: 12px;\n",
              "    }\n",
              "\n",
              "    .colab-df-convert {\n",
              "      background-color: #E8F0FE;\n",
              "      border: none;\n",
              "      border-radius: 50%;\n",
              "      cursor: pointer;\n",
              "      display: none;\n",
              "      fill: #1967D2;\n",
              "      height: 32px;\n",
              "      padding: 0 0 0 0;\n",
              "      width: 32px;\n",
              "    }\n",
              "\n",
              "    .colab-df-convert:hover {\n",
              "      background-color: #E2EBFA;\n",
              "      box-shadow: 0px 1px 2px rgba(60, 64, 67, 0.3), 0px 1px 3px 1px rgba(60, 64, 67, 0.15);\n",
              "      fill: #174EA6;\n",
              "    }\n",
              "\n",
              "    [theme=dark] .colab-df-convert {\n",
              "      background-color: #3B4455;\n",
              "      fill: #D2E3FC;\n",
              "    }\n",
              "\n",
              "    [theme=dark] .colab-df-convert:hover {\n",
              "      background-color: #434B5C;\n",
              "      box-shadow: 0px 1px 3px 1px rgba(0, 0, 0, 0.15);\n",
              "      filter: drop-shadow(0px 1px 2px rgba(0, 0, 0, 0.3));\n",
              "      fill: #FFFFFF;\n",
              "    }\n",
              "  </style>\n",
              "\n",
              "      <script>\n",
              "        const buttonEl =\n",
              "          document.querySelector('#df-dcf4c280-f670-45c8-9eca-25dcb1ae62c7 button.colab-df-convert');\n",
              "        buttonEl.style.display =\n",
              "          google.colab.kernel.accessAllowed ? 'block' : 'none';\n",
              "\n",
              "        async function convertToInteractive(key) {\n",
              "          const element = document.querySelector('#df-dcf4c280-f670-45c8-9eca-25dcb1ae62c7');\n",
              "          const dataTable =\n",
              "            await google.colab.kernel.invokeFunction('convertToInteractive',\n",
              "                                                     [key], {});\n",
              "          if (!dataTable) return;\n",
              "\n",
              "          const docLinkHtml = 'Like what you see? Visit the ' +\n",
              "            '<a target=\"_blank\" href=https://colab.research.google.com/notebooks/data_table.ipynb>data table notebook</a>'\n",
              "            + ' to learn more about interactive tables.';\n",
              "          element.innerHTML = '';\n",
              "          dataTable['output_type'] = 'display_data';\n",
              "          await google.colab.output.renderOutput(dataTable, element);\n",
              "          const docLink = document.createElement('div');\n",
              "          docLink.innerHTML = docLinkHtml;\n",
              "          element.appendChild(docLink);\n",
              "        }\n",
              "      </script>\n",
              "    </div>\n",
              "  </div>\n",
              "  "
            ]
          },
          "metadata": {},
          "execution_count": 15
        }
      ],
      "source": [
        "songs1"
      ]
    },
    {
      "cell_type": "code",
      "execution_count": 16,
      "metadata": {
        "id": "iIaGHgZYZ5fz"
      },
      "outputs": [],
      "source": [
        "def recommend(song):\n",
        "    index = songs1[songs1['SongName'] == song].index[0]\n",
        "    distances = sorted(list(enumerate(similarity[index])),reverse=True,key = lambda x: x[1])\n",
        "    for i in distances[1:6]:\n",
        "        print(songs1.iloc[i[0]].SongName)\n",
        "        "
      ]
    },
    {
      "cell_type": "code",
      "execution_count": 17,
      "metadata": {
        "colab": {
          "base_uri": "https://localhost:8080/"
        },
        "id": "H6zq3eTWaHpj",
        "outputId": "07588c45-e279-4d50-ff5b-411feb3b00b4"
      },
      "outputs": [
        {
          "output_type": "stream",
          "name": "stdout",
          "text": [
            "Riha\n",
            "WITHOUT YOU\n",
            "Dior\n",
            "Bandey\n",
            "Before You Go\n"
          ]
        }
      ],
      "source": [
        "recommend(\"Shayad\")"
      ]
    },
    {
      "cell_type": "code",
      "execution_count": 18,
      "metadata": {
        "id": "aHMmio5Tajih"
      },
      "outputs": [],
      "source": [
        "import pickle\n"
      ]
    },
    {
      "cell_type": "code",
      "execution_count": 19,
      "metadata": {
        "id": "bf73a05e"
      },
      "outputs": [],
      "source": [
        "pickle.dump(songs1,open('song_list.pkl','wb'))\n",
        "pickle.dump(similarity,open('similarity.pkl','wb'))"
      ]
    },
    {
      "cell_type": "code",
      "execution_count": 20,
      "metadata": {
        "colab": {
          "base_uri": "https://localhost:8080/"
        },
        "id": "38963dfd",
        "outputId": "c192e4ff-305a-4552-aaa8-3b8ca42d80c8"
      },
      "outputs": [
        {
          "output_type": "stream",
          "name": "stdout",
          "text": [
            "Writing app.py\n"
          ]
        }
      ],
      "source": [
        "%%writefile app.py\n",
        "\n",
        "import pickle\n",
        "import streamlit as st\n",
        "import requests\n",
        "\n",
        "\n",
        "def recommend(song):\n",
        "    index = songss[songss['SongName'] == song].index[0]\n",
        "    distances = sorted(list(enumerate(similarity[index])), reverse=True, key=lambda x: x[1])\n",
        "    recommended_song_names = []\n",
        "    for i in distances[1:6]:\n",
        "        \n",
        "        #track_id = songss.iloc[i[0]].track_id\n",
        "        \n",
        "        recommended_song_names.append(songss.iloc[i[0]].SongName)\n",
        "\n",
        "    return recommended_song_names\n",
        "\n",
        "\n",
        "st.header('Music Recommender System')\n",
        "songss = pickle.load(open('song_list.pkl','rb'))\n",
        "similarity = pickle.load(open('similarity.pkl','rb'))\n",
        "\n",
        "song_list = songss['SongName'].values\n",
        "selected_song= st.selectbox(\n",
        "    \"Type or select a movie from the dropdown\",\n",
        "    song_list\n",
        ")\n",
        "\n",
        "if st.button('Show Recommendation'):\n",
        "    recommended_song_names = recommend(selected_song)\n",
        "    col1, col2, col3, col4, col5 = st.columns(5)\n",
        "    with col1:\n",
        "        st.text(recommended_song_names[0])\n",
        "        \n",
        "    with col2:\n",
        "        st.text(recommended_song_names[1])\n",
        "        \n",
        "\n",
        "    with col3:\n",
        "        st.text(recommended_song_names[2])\n",
        "       \n",
        "    with col4:\n",
        "        st.text(recommended_song_names[3])\n",
        "        \n",
        "    with col5:\n",
        "        st.text(recommended_song_names[4])\n",
        "       "
      ]
    },
    {
      "cell_type": "code",
      "execution_count": 21,
      "metadata": {
        "id": "QCGMbvZELOWf",
        "colab": {
          "base_uri": "https://localhost:8080/"
        },
        "outputId": "b9397498-a1e7-4f2c-bd94-d0e0581c366d"
      },
      "outputs": [
        {
          "output_type": "stream",
          "name": "stdout",
          "text": [
            "\u001b[K     |████████████████████████████████| 10.1 MB 184 kB/s \n",
            "\u001b[K     |████████████████████████████████| 77 kB 2.6 MB/s \n",
            "\u001b[K     |████████████████████████████████| 164 kB 41.8 MB/s \n",
            "\u001b[K     |████████████████████████████████| 181 kB 15.5 MB/s \n",
            "\u001b[K     |████████████████████████████████| 111 kB 47.9 MB/s \n",
            "\u001b[K     |████████████████████████████████| 4.3 MB 38.8 MB/s \n",
            "\u001b[K     |████████████████████████████████| 63 kB 635 kB/s \n",
            "\u001b[K     |████████████████████████████████| 131 kB 16.6 MB/s \n",
            "\u001b[K     |████████████████████████████████| 428 kB 46.9 MB/s \n",
            "\u001b[K     |████████████████████████████████| 793 kB 19.4 MB/s \n",
            "\u001b[K     |████████████████████████████████| 130 kB 49.7 MB/s \n",
            "\u001b[K     |████████████████████████████████| 381 kB 41.8 MB/s \n",
            "\u001b[?25h  Building wheel for blinker (setup.py) ... \u001b[?25l\u001b[?25hdone\n",
            "  Building wheel for validators (setup.py) ... \u001b[?25l\u001b[?25hdone\n",
            "\u001b[31mERROR: pip's dependency resolver does not currently take into account all the packages that are installed. This behaviour is the source of the following dependency conflicts.\n",
            "jupyter-console 5.2.0 requires prompt-toolkit<2.0.0,>=1.0.0, but you have prompt-toolkit 3.0.29 which is incompatible.\n",
            "google-colab 1.0.0 requires ipykernel~=4.10, but you have ipykernel 6.13.0 which is incompatible.\n",
            "google-colab 1.0.0 requires ipython~=5.5.0, but you have ipython 7.33.0 which is incompatible.\n",
            "google-colab 1.0.0 requires tornado~=5.1.0; python_version >= \"3.0\", but you have tornado 6.1 which is incompatible.\u001b[0m\n"
          ]
        }
      ],
      "source": [
        "!pip install streamlit --quiet"
      ]
    },
    {
      "cell_type": "code",
      "execution_count": 22,
      "metadata": {
        "colab": {
          "base_uri": "https://localhost:8080/"
        },
        "id": "pvJjrKhtLO8-",
        "outputId": "fc4f8931-02e8-439e-e3ea-69f633338ccb"
      },
      "outputs": [
        {
          "output_type": "stream",
          "name": "stdout",
          "text": [
            "2022-05-24 03:53:42.801 INFO    numexpr.utils: NumExpr defaulting to 2 threads.\n",
            "\u001b[0m\n",
            "\u001b[34m\u001b[1m  You can now view your Streamlit app in your browser.\u001b[0m\n",
            "\u001b[0m\n",
            "\u001b[34m  Network URL: \u001b[0m\u001b[1mhttp://172.28.0.2:8501\u001b[0m\n",
            "\u001b[34m  External URL: \u001b[0m\u001b[1mhttp://35.196.192.108:8501\u001b[0m\n",
            "\u001b[0m\n",
            "\u001b[K\u001b[?25hnpx: installed 22 in 4.562s\n",
            "your url is: https://cold-tires-pay-35-196-192-108.loca.lt\n",
            "\u001b[34m  Stopping...\u001b[0m\n",
            "^C\n"
          ]
        }
      ],
      "source": [
        "!streamlit run app.py & npx localtunnel --port 8501"
      ]
    }
  ],
  "metadata": {
    "colab": {
      "collapsed_sections": [],
      "name": "music_recom.ipynb",
      "provenance": [],
      "mount_file_id": "1uGphhG4l0WlOj30rQU4fr-5bacUvDRDC",
      "authorship_tag": "ABX9TyNVcCy7P/4RA4B0GUAYdM1w",
      "include_colab_link": true
    },
    "kernelspec": {
      "display_name": "Python 3",
      "name": "python3"
    },
    "language_info": {
      "name": "python"
    }
  },
  "nbformat": 4,
  "nbformat_minor": 0
}