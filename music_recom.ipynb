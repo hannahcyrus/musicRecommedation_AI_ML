{
  "cells": [
    {
      "cell_type": "markdown",
      "metadata": {
        "id": "view-in-github",
        "colab_type": "text"
      },
      "source": [
        "<a href=\"https://colab.research.google.com/github/hannahcyrus/musicRecommedation_AI_ML/blob/main/music_recom.ipynb\" target=\"_parent\"><img src=\"https://colab.research.google.com/assets/colab-badge.svg\" alt=\"Open In Colab\"/></a>"
      ]
    },
    {
      "cell_type": "code",
      "execution_count": 1,
      "metadata": {
        "id": "RljJLoHEPpUk"
      },
      "outputs": [],
      "source": [
        "import numpy as np\n",
        "import pandas as pd\n",
        "import matplotlib.pyplot as plt\n",
        "import seaborn as sns\n"
      ]
    },
    {
      "cell_type": "code",
      "execution_count": 2,
      "metadata": {
        "id": "7yrjxZkxIZFW"
      },
      "outputs": [],
      "source": [
        "#songs=pd.read_csv(\"/content/drive/MyDrive/ai_ml/project/spotify dataset/SpotifyFeatures.csv\")\n",
        "songs1=pd.read_csv(\"/content/drive/MyDrive/ai_ml/project/SpotifySongs.csv\")"
      ]
    },
    {
      "cell_type": "code",
      "execution_count": 3,
      "metadata": {
        "colab": {
          "base_uri": "https://localhost:8080/"
        },
        "id": "mSnbAufJLI0z",
        "outputId": "b52bca2f-b5f1-4fd4-b4b9-64c2fc2a7851"
      },
      "outputs": [
        {
          "output_type": "stream",
          "name": "stdout",
          "text": [
            "<class 'pandas.core.frame.DataFrame'>\n",
            "RangeIndex: 3731 entries, 0 to 3730\n",
            "Data columns (total 15 columns):\n",
            " #   Column            Non-Null Count  Dtype  \n",
            "---  ------            --------------  -----  \n",
            " 0   SongName          3731 non-null   object \n",
            " 1   ArtistName        3731 non-null   object \n",
            " 2   Popularity        3731 non-null   int64  \n",
            " 3   Danceability      3731 non-null   float64\n",
            " 4   Energy            3731 non-null   float64\n",
            " 5   Key               3731 non-null   int64  \n",
            " 6   Loudness          3731 non-null   float64\n",
            " 7   Mode              3731 non-null   int64  \n",
            " 8   Speechiness       3731 non-null   float64\n",
            " 9   Acousticness      3731 non-null   float64\n",
            " 10  Instrumentalness  3731 non-null   float64\n",
            " 11  Liveness          3731 non-null   float64\n",
            " 12  Valence           3731 non-null   float64\n",
            " 13  Tempo             3731 non-null   float64\n",
            " 14  Duration_ms       3731 non-null   int64  \n",
            "dtypes: float64(9), int64(4), object(2)\n",
            "memory usage: 437.4+ KB\n"
          ]
        }
      ],
      "source": [
        "#songs.info()\n",
        "songs1.info()"
      ]
    },
    {
      "cell_type": "code",
      "execution_count": 4,
      "metadata": {
        "colab": {
          "base_uri": "https://localhost:8080/"
        },
        "id": "crK9vsCW-rhc",
        "outputId": "212734a2-eea1-43af-9e2c-d9ed876de04e"
      },
      "outputs": [
        {
          "output_type": "execute_result",
          "data": {
            "text/plain": [
              "SongName            0\n",
              "ArtistName          0\n",
              "Popularity          0\n",
              "Danceability        0\n",
              "Energy              0\n",
              "Key                 0\n",
              "Loudness            0\n",
              "Mode                0\n",
              "Speechiness         0\n",
              "Acousticness        0\n",
              "Instrumentalness    0\n",
              "Liveness            0\n",
              "Valence             0\n",
              "Tempo               0\n",
              "Duration_ms         0\n",
              "dtype: int64"
            ]
          },
          "metadata": {},
          "execution_count": 4
        }
      ],
      "source": [
        "songs1.isna().sum()"
      ]
    },
    {
      "cell_type": "code",
      "execution_count": 5,
      "metadata": {
        "colab": {
          "base_uri": "https://localhost:8080/",
          "height": 835
        },
        "id": "Ziv5tZtBWpjn",
        "outputId": "c9fd8f3f-1d11-4559-af84-50b3551ae138"
      },
      "outputs": [
        {
          "output_type": "execute_result",
          "data": {
            "text/plain": [
              "                                               SongName  \\\n",
              "0                                            Saiyaan Ji   \n",
              "2                                                Shayad   \n",
              "3     Malang (Title Track) [From \"Malang - Unleash T...   \n",
              "4                         Genda Phool (feat. Payal Dev)   \n",
              "7                     You (with Marshmello & Vance Joy)   \n",
              "...                                                 ...   \n",
              "3687                                        Electricity   \n",
              "3689                                         Illuminate   \n",
              "3690                                              BE OK   \n",
              "3692                              Dreams (feat. LUISAH)   \n",
              "3717                                  Never Really Over   \n",
              "\n",
              "                  ArtistName  Popularity  Danceability  Energy  Key  Loudness  \\\n",
              "0          Yo Yo Honey Singh          62         0.896   0.678    0    -2.546   \n",
              "2                     Pritam          72         0.483   0.468    8    -7.642   \n",
              "3                 Ved Sharma          68         0.384   0.728    7    -6.503   \n",
              "4                    Badshah          67         0.955   0.538    1    -8.394   \n",
              "7               benny blanco          73         0.668   0.563   11    -6.433   \n",
              "...                      ...         ...           ...     ...  ...       ...   \n",
              "3687           Sam Pinkerton          53         0.883   0.728    0    -6.079   \n",
              "3689  The Kite String Tangle          54         0.649   0.758   10    -5.647   \n",
              "3690                  Samoht          79         0.766   0.706    7    -6.553   \n",
              "3692             Blasterjaxx          50         0.550   0.234    0   -10.264   \n",
              "3717              Katy Perry          80         0.805   0.330    1    -8.712   \n",
              "\n",
              "      Mode  Speechiness  Acousticness  Instrumentalness  Liveness  Valence  \\\n",
              "0        0       0.0815        0.0137          0.000041    0.1100    0.604   \n",
              "2        1       0.0341        0.7850          0.000000    0.1520    0.319   \n",
              "3        0       0.0623        0.3290          0.000018    0.3290    0.311   \n",
              "4        1       0.0734        0.1320          0.001460    0.0704    0.837   \n",
              "7        1       0.0522        0.0493          0.000000    0.1190    0.305   \n",
              "...    ...          ...           ...               ...       ...      ...   \n",
              "3687     1       0.0506        0.2280          0.000000    0.1730    0.489   \n",
              "3689     0       0.0581        0.0364          0.000041    0.3600    0.737   \n",
              "3690     0       0.1600        0.2230          0.000280    0.0640    0.766   \n",
              "3692     1       0.0358        0.9410          0.000003    0.0996    0.233   \n",
              "3717     0       0.1000        0.2200          0.000000    0.1050    0.211   \n",
              "\n",
              "        Tempo  Duration_ms  \n",
              "0     130.024       205450  \n",
              "2     135.864       247941  \n",
              "3     156.396       287374  \n",
              "4     116.977       170769  \n",
              "7     103.116       169632  \n",
              "...       ...          ...  \n",
              "3687  104.037       174027  \n",
              "3689  120.001       167811  \n",
              "3690  142.989       172598  \n",
              "3692   72.799       341918  \n",
              "3717  121.970       242983  \n",
              "\n",
              "[536 rows x 15 columns]"
            ],
            "text/html": [
              "\n",
              "  <div id=\"df-e288c964-da3b-4070-a096-c1bf866b14fe\">\n",
              "    <div class=\"colab-df-container\">\n",
              "      <div>\n",
              "<style scoped>\n",
              "    .dataframe tbody tr th:only-of-type {\n",
              "        vertical-align: middle;\n",
              "    }\n",
              "\n",
              "    .dataframe tbody tr th {\n",
              "        vertical-align: top;\n",
              "    }\n",
              "\n",
              "    .dataframe thead th {\n",
              "        text-align: right;\n",
              "    }\n",
              "</style>\n",
              "<table border=\"1\" class=\"dataframe\">\n",
              "  <thead>\n",
              "    <tr style=\"text-align: right;\">\n",
              "      <th></th>\n",
              "      <th>SongName</th>\n",
              "      <th>ArtistName</th>\n",
              "      <th>Popularity</th>\n",
              "      <th>Danceability</th>\n",
              "      <th>Energy</th>\n",
              "      <th>Key</th>\n",
              "      <th>Loudness</th>\n",
              "      <th>Mode</th>\n",
              "      <th>Speechiness</th>\n",
              "      <th>Acousticness</th>\n",
              "      <th>Instrumentalness</th>\n",
              "      <th>Liveness</th>\n",
              "      <th>Valence</th>\n",
              "      <th>Tempo</th>\n",
              "      <th>Duration_ms</th>\n",
              "    </tr>\n",
              "  </thead>\n",
              "  <tbody>\n",
              "    <tr>\n",
              "      <th>0</th>\n",
              "      <td>Saiyaan Ji</td>\n",
              "      <td>Yo Yo Honey Singh</td>\n",
              "      <td>62</td>\n",
              "      <td>0.896</td>\n",
              "      <td>0.678</td>\n",
              "      <td>0</td>\n",
              "      <td>-2.546</td>\n",
              "      <td>0</td>\n",
              "      <td>0.0815</td>\n",
              "      <td>0.0137</td>\n",
              "      <td>0.000041</td>\n",
              "      <td>0.1100</td>\n",
              "      <td>0.604</td>\n",
              "      <td>130.024</td>\n",
              "      <td>205450</td>\n",
              "    </tr>\n",
              "    <tr>\n",
              "      <th>2</th>\n",
              "      <td>Shayad</td>\n",
              "      <td>Pritam</td>\n",
              "      <td>72</td>\n",
              "      <td>0.483</td>\n",
              "      <td>0.468</td>\n",
              "      <td>8</td>\n",
              "      <td>-7.642</td>\n",
              "      <td>1</td>\n",
              "      <td>0.0341</td>\n",
              "      <td>0.7850</td>\n",
              "      <td>0.000000</td>\n",
              "      <td>0.1520</td>\n",
              "      <td>0.319</td>\n",
              "      <td>135.864</td>\n",
              "      <td>247941</td>\n",
              "    </tr>\n",
              "    <tr>\n",
              "      <th>3</th>\n",
              "      <td>Malang (Title Track) [From \"Malang - Unleash T...</td>\n",
              "      <td>Ved Sharma</td>\n",
              "      <td>68</td>\n",
              "      <td>0.384</td>\n",
              "      <td>0.728</td>\n",
              "      <td>7</td>\n",
              "      <td>-6.503</td>\n",
              "      <td>0</td>\n",
              "      <td>0.0623</td>\n",
              "      <td>0.3290</td>\n",
              "      <td>0.000018</td>\n",
              "      <td>0.3290</td>\n",
              "      <td>0.311</td>\n",
              "      <td>156.396</td>\n",
              "      <td>287374</td>\n",
              "    </tr>\n",
              "    <tr>\n",
              "      <th>4</th>\n",
              "      <td>Genda Phool (feat. Payal Dev)</td>\n",
              "      <td>Badshah</td>\n",
              "      <td>67</td>\n",
              "      <td>0.955</td>\n",
              "      <td>0.538</td>\n",
              "      <td>1</td>\n",
              "      <td>-8.394</td>\n",
              "      <td>1</td>\n",
              "      <td>0.0734</td>\n",
              "      <td>0.1320</td>\n",
              "      <td>0.001460</td>\n",
              "      <td>0.0704</td>\n",
              "      <td>0.837</td>\n",
              "      <td>116.977</td>\n",
              "      <td>170769</td>\n",
              "    </tr>\n",
              "    <tr>\n",
              "      <th>7</th>\n",
              "      <td>You (with Marshmello &amp; Vance Joy)</td>\n",
              "      <td>benny blanco</td>\n",
              "      <td>73</td>\n",
              "      <td>0.668</td>\n",
              "      <td>0.563</td>\n",
              "      <td>11</td>\n",
              "      <td>-6.433</td>\n",
              "      <td>1</td>\n",
              "      <td>0.0522</td>\n",
              "      <td>0.0493</td>\n",
              "      <td>0.000000</td>\n",
              "      <td>0.1190</td>\n",
              "      <td>0.305</td>\n",
              "      <td>103.116</td>\n",
              "      <td>169632</td>\n",
              "    </tr>\n",
              "    <tr>\n",
              "      <th>...</th>\n",
              "      <td>...</td>\n",
              "      <td>...</td>\n",
              "      <td>...</td>\n",
              "      <td>...</td>\n",
              "      <td>...</td>\n",
              "      <td>...</td>\n",
              "      <td>...</td>\n",
              "      <td>...</td>\n",
              "      <td>...</td>\n",
              "      <td>...</td>\n",
              "      <td>...</td>\n",
              "      <td>...</td>\n",
              "      <td>...</td>\n",
              "      <td>...</td>\n",
              "      <td>...</td>\n",
              "    </tr>\n",
              "    <tr>\n",
              "      <th>3687</th>\n",
              "      <td>Electricity</td>\n",
              "      <td>Sam Pinkerton</td>\n",
              "      <td>53</td>\n",
              "      <td>0.883</td>\n",
              "      <td>0.728</td>\n",
              "      <td>0</td>\n",
              "      <td>-6.079</td>\n",
              "      <td>1</td>\n",
              "      <td>0.0506</td>\n",
              "      <td>0.2280</td>\n",
              "      <td>0.000000</td>\n",
              "      <td>0.1730</td>\n",
              "      <td>0.489</td>\n",
              "      <td>104.037</td>\n",
              "      <td>174027</td>\n",
              "    </tr>\n",
              "    <tr>\n",
              "      <th>3689</th>\n",
              "      <td>Illuminate</td>\n",
              "      <td>The Kite String Tangle</td>\n",
              "      <td>54</td>\n",
              "      <td>0.649</td>\n",
              "      <td>0.758</td>\n",
              "      <td>10</td>\n",
              "      <td>-5.647</td>\n",
              "      <td>0</td>\n",
              "      <td>0.0581</td>\n",
              "      <td>0.0364</td>\n",
              "      <td>0.000041</td>\n",
              "      <td>0.3600</td>\n",
              "      <td>0.737</td>\n",
              "      <td>120.001</td>\n",
              "      <td>167811</td>\n",
              "    </tr>\n",
              "    <tr>\n",
              "      <th>3690</th>\n",
              "      <td>BE OK</td>\n",
              "      <td>Samoht</td>\n",
              "      <td>79</td>\n",
              "      <td>0.766</td>\n",
              "      <td>0.706</td>\n",
              "      <td>7</td>\n",
              "      <td>-6.553</td>\n",
              "      <td>0</td>\n",
              "      <td>0.1600</td>\n",
              "      <td>0.2230</td>\n",
              "      <td>0.000280</td>\n",
              "      <td>0.0640</td>\n",
              "      <td>0.766</td>\n",
              "      <td>142.989</td>\n",
              "      <td>172598</td>\n",
              "    </tr>\n",
              "    <tr>\n",
              "      <th>3692</th>\n",
              "      <td>Dreams (feat. LUISAH)</td>\n",
              "      <td>Blasterjaxx</td>\n",
              "      <td>50</td>\n",
              "      <td>0.550</td>\n",
              "      <td>0.234</td>\n",
              "      <td>0</td>\n",
              "      <td>-10.264</td>\n",
              "      <td>1</td>\n",
              "      <td>0.0358</td>\n",
              "      <td>0.9410</td>\n",
              "      <td>0.000003</td>\n",
              "      <td>0.0996</td>\n",
              "      <td>0.233</td>\n",
              "      <td>72.799</td>\n",
              "      <td>341918</td>\n",
              "    </tr>\n",
              "    <tr>\n",
              "      <th>3717</th>\n",
              "      <td>Never Really Over</td>\n",
              "      <td>Katy Perry</td>\n",
              "      <td>80</td>\n",
              "      <td>0.805</td>\n",
              "      <td>0.330</td>\n",
              "      <td>1</td>\n",
              "      <td>-8.712</td>\n",
              "      <td>0</td>\n",
              "      <td>0.1000</td>\n",
              "      <td>0.2200</td>\n",
              "      <td>0.000000</td>\n",
              "      <td>0.1050</td>\n",
              "      <td>0.211</td>\n",
              "      <td>121.970</td>\n",
              "      <td>242983</td>\n",
              "    </tr>\n",
              "  </tbody>\n",
              "</table>\n",
              "<p>536 rows × 15 columns</p>\n",
              "</div>\n",
              "      <button class=\"colab-df-convert\" onclick=\"convertToInteractive('df-e288c964-da3b-4070-a096-c1bf866b14fe')\"\n",
              "              title=\"Convert this dataframe to an interactive table.\"\n",
              "              style=\"display:none;\">\n",
              "        \n",
              "  <svg xmlns=\"http://www.w3.org/2000/svg\" height=\"24px\"viewBox=\"0 0 24 24\"\n",
              "       width=\"24px\">\n",
              "    <path d=\"M0 0h24v24H0V0z\" fill=\"none\"/>\n",
              "    <path d=\"M18.56 5.44l.94 2.06.94-2.06 2.06-.94-2.06-.94-.94-2.06-.94 2.06-2.06.94zm-11 1L8.5 8.5l.94-2.06 2.06-.94-2.06-.94L8.5 2.5l-.94 2.06-2.06.94zm10 10l.94 2.06.94-2.06 2.06-.94-2.06-.94-.94-2.06-.94 2.06-2.06.94z\"/><path d=\"M17.41 7.96l-1.37-1.37c-.4-.4-.92-.59-1.43-.59-.52 0-1.04.2-1.43.59L10.3 9.45l-7.72 7.72c-.78.78-.78 2.05 0 2.83L4 21.41c.39.39.9.59 1.41.59.51 0 1.02-.2 1.41-.59l7.78-7.78 2.81-2.81c.8-.78.8-2.07 0-2.86zM5.41 20L4 18.59l7.72-7.72 1.47 1.35L5.41 20z\"/>\n",
              "  </svg>\n",
              "      </button>\n",
              "      \n",
              "  <style>\n",
              "    .colab-df-container {\n",
              "      display:flex;\n",
              "      flex-wrap:wrap;\n",
              "      gap: 12px;\n",
              "    }\n",
              "\n",
              "    .colab-df-convert {\n",
              "      background-color: #E8F0FE;\n",
              "      border: none;\n",
              "      border-radius: 50%;\n",
              "      cursor: pointer;\n",
              "      display: none;\n",
              "      fill: #1967D2;\n",
              "      height: 32px;\n",
              "      padding: 0 0 0 0;\n",
              "      width: 32px;\n",
              "    }\n",
              "\n",
              "    .colab-df-convert:hover {\n",
              "      background-color: #E2EBFA;\n",
              "      box-shadow: 0px 1px 2px rgba(60, 64, 67, 0.3), 0px 1px 3px 1px rgba(60, 64, 67, 0.15);\n",
              "      fill: #174EA6;\n",
              "    }\n",
              "\n",
              "    [theme=dark] .colab-df-convert {\n",
              "      background-color: #3B4455;\n",
              "      fill: #D2E3FC;\n",
              "    }\n",
              "\n",
              "    [theme=dark] .colab-df-convert:hover {\n",
              "      background-color: #434B5C;\n",
              "      box-shadow: 0px 1px 3px 1px rgba(0, 0, 0, 0.15);\n",
              "      filter: drop-shadow(0px 1px 2px rgba(0, 0, 0, 0.3));\n",
              "      fill: #FFFFFF;\n",
              "    }\n",
              "  </style>\n",
              "\n",
              "      <script>\n",
              "        const buttonEl =\n",
              "          document.querySelector('#df-e288c964-da3b-4070-a096-c1bf866b14fe button.colab-df-convert');\n",
              "        buttonEl.style.display =\n",
              "          google.colab.kernel.accessAllowed ? 'block' : 'none';\n",
              "\n",
              "        async function convertToInteractive(key) {\n",
              "          const element = document.querySelector('#df-e288c964-da3b-4070-a096-c1bf866b14fe');\n",
              "          const dataTable =\n",
              "            await google.colab.kernel.invokeFunction('convertToInteractive',\n",
              "                                                     [key], {});\n",
              "          if (!dataTable) return;\n",
              "\n",
              "          const docLinkHtml = 'Like what you see? Visit the ' +\n",
              "            '<a target=\"_blank\" href=https://colab.research.google.com/notebooks/data_table.ipynb>data table notebook</a>'\n",
              "            + ' to learn more about interactive tables.';\n",
              "          element.innerHTML = '';\n",
              "          dataTable['output_type'] = 'display_data';\n",
              "          await google.colab.output.renderOutput(dataTable, element);\n",
              "          const docLink = document.createElement('div');\n",
              "          docLink.innerHTML = docLinkHtml;\n",
              "          element.appendChild(docLink);\n",
              "        }\n",
              "      </script>\n",
              "    </div>\n",
              "  </div>\n",
              "  "
            ]
          },
          "metadata": {},
          "execution_count": 5
        }
      ],
      "source": [
        "#songs1.sort_values(\"SongName\",inplace=True)\n",
        "songs1.drop_duplicates(subset =\"SongName\",\n",
        "                     keep = False, inplace = True)\n",
        "songs1"
      ]
    },
    {
      "cell_type": "code",
      "execution_count": 6,
      "metadata": {
        "id": "z-vd1EQa6_zA"
      },
      "outputs": [],
      "source": [
        "acousticness= np.array(songs1['Acousticness'])\n",
        "acousticness= acousticness.reshape(-1, 1)\n",
        "Danceability=np.array(songs1['Danceability'])\n",
        "Danceability=Danceability.reshape(-1,1)\n",
        "Energy=np.array(songs1['Energy'])\n",
        "Energy= Energy.reshape(-1, 1)\n",
        "Instrumentalness=np.array(songs1[\"Instrumentalness\"])\n",
        "Instrumentalness=Instrumentalness.reshape(-1,1)\n",
        "Liveness=np.array(songs1[\"Liveness\"])\n",
        "Liveness=Liveness.reshape(-1,1)\n",
        "Valence=np.array(songs1[\"Valence\"])\n",
        "Valence=Valence.reshape(-1,1)\n",
        "Tempo=np.array(songs1[\"Tempo\"])\n",
        "Tempo=Tempo.reshape(-1,1)\n",
        "Speechiness=np.array(songs1[\"Speechiness\"])\n",
        "Speechiness=Speechiness.reshape(-1,1)\n",
        "Loudness=np.array(songs1[\"Loudness\"])\n",
        "Loudness=Loudness.reshape(-1,1)\n",
        "Popularity=np.array(songs1[\"Popularity\"])\n",
        "Popularity=Popularity.reshape(-1,1)"
      ]
    },
    {
      "cell_type": "code",
      "execution_count": 7,
      "metadata": {
        "colab": {
          "base_uri": "https://localhost:8080/",
          "height": 607
        },
        "id": "4QlV3aCmJK0v",
        "outputId": "05e13146-1a19-4d72-aea2-fd115feca22a"
      },
      "outputs": [
        {
          "output_type": "display_data",
          "data": {
            "text/plain": [
              "<Figure size 1440x720 with 12 Axes>"
            ],
            "image/png": "[encoded data removed]"
          },
          "metadata": {
            "needs_background": "light"
          }
        }
      ],
      "source": [
        "\n",
        "\n",
        "songs1[['Acousticness', 'Danceability', 'Energy','Instrumentalness', 'Liveness','Valence', 'Tempo','Speechiness', 'Loudness','Popularity']].hist(bins=50,figsize=(20,10))\n",
        "plt.show()\n"
      ]
    },
    {
      "cell_type": "code",
      "execution_count": 8,
      "metadata": {
        "colab": {
          "base_uri": "https://localhost:8080/",
          "height": 468
        },
        "id": "tGFBLa_iSgwG",
        "outputId": "55d8bc7b-6d8c-4748-926a-e7e4ad3caf53"
      },
      "outputs": [
        {
          "output_type": "execute_result",
          "data": {
            "text/plain": [
              "<matplotlib.axes._subplots.AxesSubplot at 0x7f7cfc823550>"
            ]
          },
          "metadata": {},
          "execution_count": 8
        },
        {
          "output_type": "display_data",
          "data": {
            "text/plain": [
              "<Figure size 720x432 with 2 Axes>"
            ],
            "image/png": "[encoded data removed]"
          },
          "metadata": {
            "needs_background": "light"
          }
        }
      ],
      "source": [
        "plt.figure(figsize=(10,6))\n",
        "\n",
        "corr = songs1.corr()\n",
        "mask = np.triu(np.ones_like(corr, dtype=bool))\n",
        "sns.heatmap(corr,mask=mask,vmin=-1,cmap='viridis',annot=True\n",
        "            )"
      ]
    },
    {
      "cell_type": "code",
      "execution_count": 9,
      "metadata": {
        "colab": {
          "base_uri": "https://localhost:8080/"
        },
        "id": "ogAiqgrES7yL",
        "outputId": "c170da74-25a2-4829-fb71-d5681ca7dc83"
      },
      "outputs": [
        {
          "output_type": "execute_result",
          "data": {
            "text/plain": [
              "Popularity    1.0\n",
              "Name: Popularity, dtype: float64"
            ]
          },
          "metadata": {},
          "execution_count": 9
        }
      ],
      "source": [
        "corr[abs(corr['Popularity']) > 0.25]['Popularity']"
      ]
    },
    {
      "cell_type": "code",
      "execution_count": 10,
      "metadata": {
        "id": "LSEphi6YJoyC"
      },
      "outputs": [],
      "source": [
        "\n",
        "from sklearn.preprocessing import MinMaxScaler\n",
        "\n",
        "#from collections import defaultdict"
      ]
    },
    {
      "cell_type": "code",
      "execution_count": 11,
      "metadata": {
        "colab": {
          "base_uri": "https://localhost:8080/"
        },
        "id": "e3KU70ScJDyM",
        "outputId": "cdfedc29-6703-4b95-d351-b35721df7a6a"
      },
      "outputs": [
        {
          "output_type": "stream",
          "name": "stdout",
          "text": [
            "song data:  [1.36128080e-02 9.31665508e-01 7.02311834e-01 4.26638918e-05\n",
            " 1.28537026e-01 6.46349784e-01 5.17081572e-01 6.15384615e-02\n",
            " 1.00000000e+00 6.39175258e-01]\n"
          ]
        }
      ],
      "source": [
        "columns_to_cluster = ['Acousticness', 'Danceability', 'Energy','Instrumentalness', 'Liveness','Valence', 'Tempo','Speechiness', 'Loudness','Popularity']\n",
        "mms = MinMaxScaler()\n",
        "\n",
        "songs_scaled = mms.fit_transform(songs1[columns_to_cluster])\n",
        "print(\"song data: \", songs_scaled[0,:])\n"
      ]
    },
    {
      "cell_type": "code",
      "execution_count": 12,
      "metadata": {
        "id": "IrLA8UfRLTlm"
      },
      "outputs": [],
      "source": [
        "columns_to_cluster_scaled = ['acousticness_scaled', 'danceability_scaled', \n",
        "                             'energy_scaled', 'instrumentalness_scaled', 'liveness_scaled'\n",
        "                             , 'valence_scaled', 'tempo_scaled','speechiness_scaled', 'loudness_scaled','popularity_scaled']\n",
        "\n",
        "df_songs_scaled = pd.DataFrame(songs_scaled, columns=columns_to_cluster_scaled)\n"
      ]
    },
    {
      "cell_type": "code",
      "execution_count": 13,
      "metadata": {
        "colab": {
          "base_uri": "https://localhost:8080/",
          "height": 492
        },
        "id": "oDJlnERnLb3I",
        "outputId": "368f50b5-1ccd-4870-d36a-8674f3f06e63"
      },
      "outputs": [
        {
          "output_type": "display_data",
          "data": {
            "text/plain": [
              "<Figure size 720x432 with 2 Axes>"
            ],
            "image/png": "[encoded data removed]"
          },
          "metadata": {
            "needs_background": "light"
          }
        }
      ],
      "source": [
        "plt.figure(figsize=(10,6))\n",
        "ax = sns.heatmap(df_songs_scaled.corr(), annot=True)\n",
        "plt.show()"
      ]
    },
    {
      "cell_type": "code",
      "execution_count": 26,
      "metadata": {
        "id": "BTcAPVTXJXL2"
      },
      "outputs": [],
      "source": [
        "from sklearn.feature_extraction.text import CountVectorizer\n",
        "cv = CountVectorizer(max_features=5000,stop_words='english')\n",
        "vector = cv.fit_transform(songs1[\"ArtistName\"]).toarray()\n",
        "#new_matrix = np.concatenate((vector, np.array(songs_scaled.reshape(-1, 1)))\n",
        "ew_matrix = np.concatenate((vector, acousticness,Danceability,Energy,Instrumentalness, Liveness,Valence, Tempo,Speechiness, Loudness,Popularity), axis=1)\n",
        "\n",
        "\n",
        "from sklearn.metrics.pairwise import cosine_similarity\n",
        "similarity = cosine_similarity(ew_matrix)\n",
        "\n",
        "\n",
        "                               "
      ]
    },
    {
      "cell_type": "code",
      "execution_count": 15,
      "metadata": {
        "colab": {
          "base_uri": "https://localhost:8080/"
        },
        "id": "7e4dD3smOtxf",
        "outputId": "dce1e4f4-dd9c-4f1b-e3c1-297d6c5313c9"
      },
      "outputs": [
        {
          "output_type": "execute_result",
          "data": {
            "text/plain": [
              "array([[1., 0., 0., ..., 0., 0., 0.],\n",
              "       [0., 1., 0., ..., 0., 0., 0.],\n",
              "       [0., 0., 1., ..., 0., 0., 0.],\n",
              "       ...,\n",
              "       [0., 0., 0., ..., 1., 0., 0.],\n",
              "       [0., 0., 0., ..., 0., 1., 0.],\n",
              "       [0., 0., 0., ..., 0., 0., 1.]])"
            ]
          },
          "metadata": {},
          "execution_count": 15
        }
      ],
      "source": [
        "similarity"
      ]
    },
    {
      "cell_type": "code",
      "execution_count": 16,
      "metadata": {
        "colab": {
          "base_uri": "https://localhost:8080/"
        },
        "id": "fMX0pPa-Z39K",
        "outputId": "9b624fc8-8253-49aa-a1e7-c1db54a43e48"
      },
      "outputs": [
        {
          "output_type": "execute_result",
          "data": {
            "text/plain": [
              "(536, 536)"
            ]
          },
          "metadata": {},
          "execution_count": 16
        }
      ],
      "source": [
        "similarity.shape"
      ]
    },
    {
      "cell_type": "code",
      "execution_count": 17,
      "metadata": {
        "colab": {
          "base_uri": "https://localhost:8080/",
          "height": 835
        },
        "id": "O0ZN2D8NaS4Y",
        "outputId": "1de45822-772f-4555-dc7e-8b5ec5a2915d"
      },
      "outputs": [
        {
          "output_type": "execute_result",
          "data": {
            "text/plain": [
              "                                               SongName  \\\n",
              "0                                            Saiyaan Ji   \n",
              "2                                                Shayad   \n",
              "3     Malang (Title Track) [From \"Malang - Unleash T...   \n",
              "4                         Genda Phool (feat. Payal Dev)   \n",
              "7                     You (with Marshmello & Vance Joy)   \n",
              "...                                                 ...   \n",
              "3687                                        Electricity   \n",
              "3689                                         Illuminate   \n",
              "3690                                              BE OK   \n",
              "3692                              Dreams (feat. LUISAH)   \n",
              "3717                                  Never Really Over   \n",
              "\n",
              "                  ArtistName  Popularity  Danceability  Energy  Key  Loudness  \\\n",
              "0          Yo Yo Honey Singh          62         0.896   0.678    0    -2.546   \n",
              "2                     Pritam          72         0.483   0.468    8    -7.642   \n",
              "3                 Ved Sharma          68         0.384   0.728    7    -6.503   \n",
              "4                    Badshah          67         0.955   0.538    1    -8.394   \n",
              "7               benny blanco          73         0.668   0.563   11    -6.433   \n",
              "...                      ...         ...           ...     ...  ...       ...   \n",
              "3687           Sam Pinkerton          53         0.883   0.728    0    -6.079   \n",
              "3689  The Kite String Tangle          54         0.649   0.758   10    -5.647   \n",
              "3690                  Samoht          79         0.766   0.706    7    -6.553   \n",
              "3692             Blasterjaxx          50         0.550   0.234    0   -10.264   \n",
              "3717              Katy Perry          80         0.805   0.330    1    -8.712   \n",
              "\n",
              "      Mode  Speechiness  Acousticness  Instrumentalness  Liveness  Valence  \\\n",
              "0        0       0.0815        0.0137          0.000041    0.1100    0.604   \n",
              "2        1       0.0341        0.7850          0.000000    0.1520    0.319   \n",
              "3        0       0.0623        0.3290          0.000018    0.3290    0.311   \n",
              "4        1       0.0734        0.1320          0.001460    0.0704    0.837   \n",
              "7        1       0.0522        0.0493          0.000000    0.1190    0.305   \n",
              "...    ...          ...           ...               ...       ...      ...   \n",
              "3687     1       0.0506        0.2280          0.000000    0.1730    0.489   \n",
              "3689     0       0.0581        0.0364          0.000041    0.3600    0.737   \n",
              "3690     0       0.1600        0.2230          0.000280    0.0640    0.766   \n",
              "3692     1       0.0358        0.9410          0.000003    0.0996    0.233   \n",
              "3717     0       0.1000        0.2200          0.000000    0.1050    0.211   \n",
              "\n",
              "        Tempo  Duration_ms  \n",
              "0     130.024       205450  \n",
              "2     135.864       247941  \n",
              "3     156.396       287374  \n",
              "4     116.977       170769  \n",
              "7     103.116       169632  \n",
              "...       ...          ...  \n",
              "3687  104.037       174027  \n",
              "3689  120.001       167811  \n",
              "3690  142.989       172598  \n",
              "3692   72.799       341918  \n",
              "3717  121.970       242983  \n",
              "\n",
              "[536 rows x 15 columns]"
            ],
            "text/html": [
              "\n",
              "  <div id=\"df-5c84e4e2-e242-45c3-92a6-ed127bff1fd6\">\n",
              "    <div class=\"colab-df-container\">\n",
              "      <div>\n",
              "<style scoped>\n",
              "    .dataframe tbody tr th:only-of-type {\n",
              "        vertical-align: middle;\n",
              "    }\n",
              "\n",
              "    .dataframe tbody tr th {\n",
              "        vertical-align: top;\n",
              "    }\n",
              "\n",
              "    .dataframe thead th {\n",
              "        text-align: right;\n",
              "    }\n",
              "</style>\n",
              "<table border=\"1\" class=\"dataframe\">\n",
              "  <thead>\n",
              "    <tr style=\"text-align: right;\">\n",
              "      <th></th>\n",
              "      <th>SongName</th>\n",
              "      <th>ArtistName</th>\n",
              "      <th>Popularity</th>\n",
              "      <th>Danceability</th>\n",
              "      <th>Energy</th>\n",
              "      <th>Key</th>\n",
              "      <th>Loudness</th>\n",
              "      <th>Mode</th>\n",
              "      <th>Speechiness</th>\n",
              "      <th>Acousticness</th>\n",
              "      <th>Instrumentalness</th>\n",
              "      <th>Liveness</th>\n",
              "      <th>Valence</th>\n",
              "      <th>Tempo</th>\n",
              "      <th>Duration_ms</th>\n",
              "    </tr>\n",
              "  </thead>\n",
              "  <tbody>\n",
              "    <tr>\n",
              "      <th>0</th>\n",
              "      <td>Saiyaan Ji</td>\n",
              "      <td>Yo Yo Honey Singh</td>\n",
              "      <td>62</td>\n",
              "      <td>0.896</td>\n",
              "      <td>0.678</td>\n",
              "      <td>0</td>\n",
              "      <td>-2.546</td>\n",
              "      <td>0</td>\n",
              "      <td>0.0815</td>\n",
              "      <td>0.0137</td>\n",
              "      <td>0.000041</td>\n",
              "      <td>0.1100</td>\n",
              "      <td>0.604</td>\n",
              "      <td>130.024</td>\n",
              "      <td>205450</td>\n",
              "    </tr>\n",
              "    <tr>\n",
              "      <th>2</th>\n",
              "      <td>Shayad</td>\n",
              "      <td>Pritam</td>\n",
              "      <td>72</td>\n",
              "      <td>0.483</td>\n",
              "      <td>0.468</td>\n",
              "      <td>8</td>\n",
              "      <td>-7.642</td>\n",
              "      <td>1</td>\n",
              "      <td>0.0341</td>\n",
              "      <td>0.7850</td>\n",
              "      <td>0.000000</td>\n",
              "      <td>0.1520</td>\n",
              "      <td>0.319</td>\n",
              "      <td>135.864</td>\n",
              "      <td>247941</td>\n",
              "    </tr>\n",
              "    <tr>\n",
              "      <th>3</th>\n",
              "      <td>Malang (Title Track) [From \"Malang - Unleash T...</td>\n",
              "      <td>Ved Sharma</td>\n",
              "      <td>68</td>\n",
              "      <td>0.384</td>\n",
              "      <td>0.728</td>\n",
              "      <td>7</td>\n",
              "      <td>-6.503</td>\n",
              "      <td>0</td>\n",
              "      <td>0.0623</td>\n",
              "      <td>0.3290</td>\n",
              "      <td>0.000018</td>\n",
              "      <td>0.3290</td>\n",
              "      <td>0.311</td>\n",
              "      <td>156.396</td>\n",
              "      <td>287374</td>\n",
              "    </tr>\n",
              "    <tr>\n",
              "      <th>4</th>\n",
              "      <td>Genda Phool (feat. Payal Dev)</td>\n",
              "      <td>Badshah</td>\n",
              "      <td>67</td>\n",
              "      <td>0.955</td>\n",
              "      <td>0.538</td>\n",
              "      <td>1</td>\n",
              "      <td>-8.394</td>\n",
              "      <td>1</td>\n",
              "      <td>0.0734</td>\n",
              "      <td>0.1320</td>\n",
              "      <td>0.001460</td>\n",
              "      <td>0.0704</td>\n",
              "      <td>0.837</td>\n",
              "      <td>116.977</td>\n",
              "      <td>170769</td>\n",
              "    </tr>\n",
              "    <tr>\n",
              "      <th>7</th>\n",
              "      <td>You (with Marshmello &amp; Vance Joy)</td>\n",
              "      <td>benny blanco</td>\n",
              "      <td>73</td>\n",
              "      <td>0.668</td>\n",
              "      <td>0.563</td>\n",
              "      <td>11</td>\n",
              "      <td>-6.433</td>\n",
              "      <td>1</td>\n",
              "      <td>0.0522</td>\n",
              "      <td>0.0493</td>\n",
              "      <td>0.000000</td>\n",
              "      <td>0.1190</td>\n",
              "      <td>0.305</td>\n",
              "      <td>103.116</td>\n",
              "      <td>169632</td>\n",
              "    </tr>\n",
              "    <tr>\n",
              "      <th>...</th>\n",
              "      <td>...</td>\n",
              "      <td>...</td>\n",
              "      <td>...</td>\n",
              "      <td>...</td>\n",
              "      <td>...</td>\n",
              "      <td>...</td>\n",
              "      <td>...</td>\n",
              "      <td>...</td>\n",
              "      <td>...</td>\n",
              "      <td>...</td>\n",
              "      <td>...</td>\n",
              "      <td>...</td>\n",
              "      <td>...</td>\n",
              "      <td>...</td>\n",
              "      <td>...</td>\n",
              "    </tr>\n",
              "    <tr>\n",
              "      <th>3687</th>\n",
              "      <td>Electricity</td>\n",
              "      <td>Sam Pinkerton</td>\n",
              "      <td>53</td>\n",
              "      <td>0.883</td>\n",
              "      <td>0.728</td>\n",
              "      <td>0</td>\n",
              "      <td>-6.079</td>\n",
              "      <td>1</td>\n",
              "      <td>0.0506</td>\n",
              "      <td>0.2280</td>\n",
              "      <td>0.000000</td>\n",
              "      <td>0.1730</td>\n",
              "      <td>0.489</td>\n",
              "      <td>104.037</td>\n",
              "      <td>174027</td>\n",
              "    </tr>\n",
              "    <tr>\n",
              "      <th>3689</th>\n",
              "      <td>Illuminate</td>\n",
              "      <td>The Kite String Tangle</td>\n",
              "      <td>54</td>\n",
              "      <td>0.649</td>\n",
              "      <td>0.758</td>\n",
              "      <td>10</td>\n",
              "      <td>-5.647</td>\n",
              "      <td>0</td>\n",
              "      <td>0.0581</td>\n",
              "      <td>0.0364</td>\n",
              "      <td>0.000041</td>\n",
              "      <td>0.3600</td>\n",
              "      <td>0.737</td>\n",
              "      <td>120.001</td>\n",
              "      <td>167811</td>\n",
              "    </tr>\n",
              "    <tr>\n",
              "      <th>3690</th>\n",
              "      <td>BE OK</td>\n",
              "      <td>Samoht</td>\n",
              "      <td>79</td>\n",
              "      <td>0.766</td>\n",
              "      <td>0.706</td>\n",
              "      <td>7</td>\n",
              "      <td>-6.553</td>\n",
              "      <td>0</td>\n",
              "      <td>0.1600</td>\n",
              "      <td>0.2230</td>\n",
              "      <td>0.000280</td>\n",
              "      <td>0.0640</td>\n",
              "      <td>0.766</td>\n",
              "      <td>142.989</td>\n",
              "      <td>172598</td>\n",
              "    </tr>\n",
              "    <tr>\n",
              "      <th>3692</th>\n",
              "      <td>Dreams (feat. LUISAH)</td>\n",
              "      <td>Blasterjaxx</td>\n",
              "      <td>50</td>\n",
              "      <td>0.550</td>\n",
              "      <td>0.234</td>\n",
              "      <td>0</td>\n",
              "      <td>-10.264</td>\n",
              "      <td>1</td>\n",
              "      <td>0.0358</td>\n",
              "      <td>0.9410</td>\n",
              "      <td>0.000003</td>\n",
              "      <td>0.0996</td>\n",
              "      <td>0.233</td>\n",
              "      <td>72.799</td>\n",
              "      <td>341918</td>\n",
              "    </tr>\n",
              "    <tr>\n",
              "      <th>3717</th>\n",
              "      <td>Never Really Over</td>\n",
              "      <td>Katy Perry</td>\n",
              "      <td>80</td>\n",
              "      <td>0.805</td>\n",
              "      <td>0.330</td>\n",
              "      <td>1</td>\n",
              "      <td>-8.712</td>\n",
              "      <td>0</td>\n",
              "      <td>0.1000</td>\n",
              "      <td>0.2200</td>\n",
              "      <td>0.000000</td>\n",
              "      <td>0.1050</td>\n",
              "      <td>0.211</td>\n",
              "      <td>121.970</td>\n",
              "      <td>242983</td>\n",
              "    </tr>\n",
              "  </tbody>\n",
              "</table>\n",
              "<p>536 rows × 15 columns</p>\n",
              "</div>\n",
              "      <button class=\"colab-df-convert\" onclick=\"convertToInteractive('df-5c84e4e2-e242-45c3-92a6-ed127bff1fd6')\"\n",
              "              title=\"Convert this dataframe to an interactive table.\"\n",
              "              style=\"display:none;\">\n",
              "        \n",
              "  <svg xmlns=\"http://www.w3.org/2000/svg\" height=\"24px\"viewBox=\"0 0 24 24\"\n",
              "       width=\"24px\">\n",
              "    <path d=\"M0 0h24v24H0V0z\" fill=\"none\"/>\n",
              "    <path d=\"M18.56 5.44l.94 2.06.94-2.06 2.06-.94-2.06-.94-.94-2.06-.94 2.06-2.06.94zm-11 1L8.5 8.5l.94-2.06 2.06-.94-2.06-.94L8.5 2.5l-.94 2.06-2.06.94zm10 10l.94 2.06.94-2.06 2.06-.94-2.06-.94-.94-2.06-.94 2.06-2.06.94z\"/><path d=\"M17.41 7.96l-1.37-1.37c-.4-.4-.92-.59-1.43-.59-.52 0-1.04.2-1.43.59L10.3 9.45l-7.72 7.72c-.78.78-.78 2.05 0 2.83L4 21.41c.39.39.9.59 1.41.59.51 0 1.02-.2 1.41-.59l7.78-7.78 2.81-2.81c.8-.78.8-2.07 0-2.86zM5.41 20L4 18.59l7.72-7.72 1.47 1.35L5.41 20z\"/>\n",
              "  </svg>\n",
              "      </button>\n",
              "      \n",
              "  <style>\n",
              "    .colab-df-container {\n",
              "      display:flex;\n",
              "      flex-wrap:wrap;\n",
              "      gap: 12px;\n",
              "    }\n",
              "\n",
              "    .colab-df-convert {\n",
              "      background-color: #E8F0FE;\n",
              "      border: none;\n",
              "      border-radius: 50%;\n",
              "      cursor: pointer;\n",
              "      display: none;\n",
              "      fill: #1967D2;\n",
              "      height: 32px;\n",
              "      padding: 0 0 0 0;\n",
              "      width: 32px;\n",
              "    }\n",
              "\n",
              "    .colab-df-convert:hover {\n",
              "      background-color: #E2EBFA;\n",
              "      box-shadow: 0px 1px 2px rgba(60, 64, 67, 0.3), 0px 1px 3px 1px rgba(60, 64, 67, 0.15);\n",
              "      fill: #174EA6;\n",
              "    }\n",
              "\n",
              "    [theme=dark] .colab-df-convert {\n",
              "      background-color: #3B4455;\n",
              "      fill: #D2E3FC;\n",
              "    }\n",
              "\n",
              "    [theme=dark] .colab-df-convert:hover {\n",
              "      background-color: #434B5C;\n",
              "      box-shadow: 0px 1px 3px 1px rgba(0, 0, 0, 0.15);\n",
              "      filter: drop-shadow(0px 1px 2px rgba(0, 0, 0, 0.3));\n",
              "      fill: #FFFFFF;\n",
              "    }\n",
              "  </style>\n",
              "\n",
              "      <script>\n",
              "        const buttonEl =\n",
              "          document.querySelector('#df-5c84e4e2-e242-45c3-92a6-ed127bff1fd6 button.colab-df-convert');\n",
              "        buttonEl.style.display =\n",
              "          google.colab.kernel.accessAllowed ? 'block' : 'none';\n",
              "\n",
              "        async function convertToInteractive(key) {\n",
              "          const element = document.querySelector('#df-5c84e4e2-e242-45c3-92a6-ed127bff1fd6');\n",
              "          const dataTable =\n",
              "            await google.colab.kernel.invokeFunction('convertToInteractive',\n",
              "                                                     [key], {});\n",
              "          if (!dataTable) return;\n",
              "\n",
              "          const docLinkHtml = 'Like what you see? Visit the ' +\n",
              "            '<a target=\"_blank\" href=https://colab.research.google.com/notebooks/data_table.ipynb>data table notebook</a>'\n",
              "            + ' to learn more about interactive tables.';\n",
              "          element.innerHTML = '';\n",
              "          dataTable['output_type'] = 'display_data';\n",
              "          await google.colab.output.renderOutput(dataTable, element);\n",
              "          const docLink = document.createElement('div');\n",
              "          docLink.innerHTML = docLinkHtml;\n",
              "          element.appendChild(docLink);\n",
              "        }\n",
              "      </script>\n",
              "    </div>\n",
              "  </div>\n",
              "  "
            ]
          },
          "metadata": {},
          "execution_count": 17
        }
      ],
      "source": [
        "songs1"
      ]
    },
    {
      "cell_type": "code",
      "execution_count": 27,
      "metadata": {
        "id": "iIaGHgZYZ5fz"
      },
      "outputs": [],
      "source": [
        "def recommend(song):\n",
        "    index = songs1[songs1['SongName'] == song].index[0]\n",
        "    distances = sorted(list(enumerate(similarity[index])),reverse=True,key = lambda x: x[1])\n",
        "    for i in distances[1:6]:\n",
        "        print(songs1.iloc[i[0]].SongName)\n",
        "        "
      ]
    },
    {
      "cell_type": "code",
      "execution_count": 28,
      "metadata": {
        "colab": {
          "base_uri": "https://localhost:8080/"
        },
        "id": "H6zq3eTWaHpj",
        "outputId": "44715e34-8f61-42bd-f891-9dd65698dbd0"
      },
      "outputs": [
        {
          "output_type": "stream",
          "name": "stdout",
          "text": [
            "A Sky Full of Stars\n",
            "White Flag\n",
            "Retour\n",
            "Goodbye\n",
            "Lie\n"
          ]
        }
      ],
      "source": [
        "recommend(\"Saiyaan Ji\")"
      ]
    },
    {
      "cell_type": "code",
      "execution_count": 20,
      "metadata": {
        "id": "aHMmio5Tajih"
      },
      "outputs": [],
      "source": [
        "import pickle\n"
      ]
    },
    {
      "cell_type": "code",
      "execution_count": 21,
      "metadata": {
        "id": "bf73a05e"
      },
      "outputs": [],
      "source": [
        "pickle.dump(songs1,open('song_list.pkl','wb'))\n",
        "pickle.dump(similarity,open('similarity.pkl','wb'))"
      ]
    },
    {
      "cell_type": "code",
      "execution_count": 29,
      "metadata": {
        "colab": {
          "base_uri": "https://localhost:8080/"
        },
        "id": "38963dfd",
        "outputId": "be4da485-b127-4fb2-8e00-b2ee316d14f8"
      },
      "outputs": [
        {
          "output_type": "stream",
          "name": "stdout",
          "text": [
            "Overwriting app.py\n"
          ]
        }
      ],
      "source": [
        "%%writefile app.py\n",
        "\n",
        "import pickle\n",
        "import streamlit as st\n",
        "import requests\n",
        "\n",
        "\n",
        "def recommend(song):\n",
        "    index = songss[songss['SongName'] == song].index[0]\n",
        "    distances = sorted(list(enumerate(similarity[index])), reverse=True, key=lambda x: x[1])\n",
        "    recommended_song_names = []\n",
        "    for i in distances[1:6]:\n",
        "        \n",
        "        #track_id = songss.iloc[i[0]].track_id\n",
        "        \n",
        "        recommended_song_names.append(songss.iloc[i[0]].SongName)\n",
        "\n",
        "    return recommended_song_names\n",
        "\n",
        "\n",
        "st.header('Music Recommender System')\n",
        "songss = pickle.load(open('song_list.pkl','rb'))\n",
        "similarity = pickle.load(open('similarity.pkl','rb'))\n",
        "\n",
        "song_list = songss['SongName'].values\n",
        "selected_song= st.selectbox(\n",
        "    \"Type or select a movie from the dropdown\",\n",
        "    song_list\n",
        ")\n",
        "\n",
        "if st.button('Show Recommendation'):\n",
        "    recommended_song_names = recommend(selected_song)\n",
        "    col1, col2, col3, col4, col5 = st.columns(5)\n",
        "    with col1:\n",
        "        st.text(recommended_song_names[0])\n",
        "        \n",
        "    with col2:\n",
        "        st.text(recommended_song_names[1])\n",
        "        \n",
        "\n",
        "    with col3:\n",
        "        st.text(recommended_song_names[2])\n",
        "       \n",
        "    with col4:\n",
        "        st.text(recommended_song_names[3])\n",
        "        \n",
        "    with col5:\n",
        "        st.text(recommended_song_names[4])\n",
        "       "
      ]
    },
    {
      "cell_type": "code",
      "execution_count": 23,
      "metadata": {
        "id": "QCGMbvZELOWf",
        "colab": {
          "base_uri": "https://localhost:8080/"
        },
        "outputId": "36bf7c60-39f3-4a92-e093-ad1292ee2be4"
      },
      "outputs": [
        {
          "output_type": "stream",
          "name": "stdout",
          "text": [
            "\u001b[K     |████████████████████████████████| 10.1 MB 6.9 MB/s \n",
            "\u001b[K     |████████████████████████████████| 111 kB 43.2 MB/s \n",
            "\u001b[K     |████████████████████████████████| 4.3 MB 7.0 MB/s \n",
            "\u001b[K     |████████████████████████████████| 181 kB 43.5 MB/s \n",
            "\u001b[K     |████████████████████████████████| 164 kB 44.0 MB/s \n",
            "\u001b[K     |████████████████████████████████| 77 kB 1.7 MB/s \n",
            "\u001b[K     |████████████████████████████████| 63 kB 1.4 MB/s \n",
            "\u001b[K     |████████████████████████████████| 131 kB 14.2 MB/s \n",
            "\u001b[K     |████████████████████████████████| 428 kB 57.5 MB/s \n",
            "\u001b[K     |████████████████████████████████| 793 kB 8.8 MB/s \n",
            "\u001b[K     |████████████████████████████████| 130 kB 50.3 MB/s \n",
            "\u001b[K     |████████████████████████████████| 381 kB 47.4 MB/s \n",
            "\u001b[?25h  Building wheel for blinker (setup.py) ... \u001b[?25l\u001b[?25hdone\n",
            "  Building wheel for validators (setup.py) ... \u001b[?25l\u001b[?25hdone\n",
            "\u001b[31mERROR: pip's dependency resolver does not currently take into account all the packages that are installed. This behaviour is the source of the following dependency conflicts.\n",
            "jupyter-console 5.2.0 requires prompt-toolkit<2.0.0,>=1.0.0, but you have prompt-toolkit 3.0.29 which is incompatible.\n",
            "google-colab 1.0.0 requires ipykernel~=4.10, but you have ipykernel 6.13.0 which is incompatible.\n",
            "google-colab 1.0.0 requires ipython~=5.5.0, but you have ipython 7.33.0 which is incompatible.\n",
            "google-colab 1.0.0 requires tornado~=5.1.0; python_version >= \"3.0\", but you have tornado 6.1 which is incompatible.\u001b[0m\n"
          ]
        }
      ],
      "source": [
        "!pip install streamlit --quiet"
      ]
    },
    {
      "cell_type": "code",
      "execution_count": null,
      "metadata": {
        "colab": {
          "base_uri": "https://localhost:8080/"
        },
        "id": "pvJjrKhtLO8-",
        "outputId": "f6701446-f8b8-44df-8782-3f9178047fca"
      },
      "outputs": [
        {
          "output_type": "stream",
          "name": "stdout",
          "text": [
            "2022-05-27 16:11:29.425 INFO    numexpr.utils: NumExpr defaulting to 2 threads.\n",
            "\u001b[K\u001b[?25h\u001b[0m\n",
            "\u001b[34m\u001b[1m  You can now view your Streamlit app in your browser.\u001b[0m\n",
            "\u001b[0m\n",
            "\u001b[34m  Network URL: \u001b[0m\u001b[1mhttp://172.28.0.2:8501\u001b[0m\n",
            "\u001b[34m  External URL: \u001b[0m\u001b[1mhttp://34.125.167.97:8501\u001b[0m\n",
            "\u001b[0m\n",
            "npx: installed 22 in 2.888s\n",
            "your url is: https://smooth-pears-play-34-125-167-97.loca.lt\n"
          ]
        }
      ],
      "source": [
        "!streamlit run app.py & npx localtunnel --port 8501"
      ]
    }
  ],
  "metadata": {
    "colab": {
      "collapsed_sections": [],
      "name": "music_recom.ipynb",
      "provenance": [],
      "mount_file_id": "1uGphhG4l0WlOj30rQU4fr-5bacUvDRDC",
      "authorship_tag": "ABX9TyP7U+8W8fqiQh4XEzGZQP/K",
      "include_colab_link": true
    },
    "kernelspec": {
      "display_name": "Python 3",
      "name": "python3"
    },
    "language_info": {
      "name": "python"
    }
  },
  "nbformat": 4,
  "nbformat_minor": 0
}